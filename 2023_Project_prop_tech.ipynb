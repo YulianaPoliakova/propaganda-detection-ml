{
  "cells": [
    {
      "cell_type": "markdown",
      "metadata": {
        "id": "view-in-github",
        "colab_type": "text"
      },
      "source": [
        "<a href=\"https://colab.research.google.com/github/YulianaPoliakova/propaganda-detection-ml/blob/main/2023_Project_prop_tech.ipynb\" target=\"_parent\"><img src=\"https://colab.research.google.com/assets/colab-badge.svg\" alt=\"Open In Colab\"/></a>"
      ]
    },
    {
      "cell_type": "markdown",
      "metadata": {
        "id": "kQAtKWndf-2R"
      },
      "source": [
        "# Detection of Persuasion Techniques in multilingual Online News\n",
        "\n",
        "Given the textual content of an article, identify the techniques used in it (multilabel classification problem)."
      ]
    },
    {
      "cell_type": "markdown",
      "metadata": {
        "id": "5ZDatW643ilz"
      },
      "source": [
        "# Import"
      ]
    },
    {
      "cell_type": "code",
      "execution_count": null,
      "metadata": {
        "colab": {
          "base_uri": "https://localhost:8080/"
        },
        "id": "wn2sXvIE4aoK",
        "outputId": "b7fa29b5-92be-46fb-dc7c-25fb94b50fc5"
      },
      "outputs": [
        {
          "output_type": "stream",
          "name": "stdout",
          "text": [
            "Drive already mounted at /content/drive; to attempt to forcibly remount, call drive.mount(\"/content/drive\", force_remount=True).\n"
          ]
        }
      ],
      "source": [
        "from google.colab import drive\n",
        "drive.mount('/content/drive')"
      ]
    },
    {
      "cell_type": "code",
      "source": [
        "!pip install git+https://github.com/huggingface/transformers"
      ],
      "metadata": {
        "id": "9CIa5xzxGuoq"
      },
      "execution_count": null,
      "outputs": []
    },
    {
      "cell_type": "code",
      "execution_count": null,
      "metadata": {
        "id": "6XMkViqL3moA"
      },
      "outputs": [],
      "source": [
        "! pip install  \"datasets\" \"pytorch-lightning\" "
      ]
    },
    {
      "cell_type": "code",
      "source": [
        "!pip install accelerate"
      ],
      "metadata": {
        "colab": {
          "base_uri": "https://localhost:8080/"
        },
        "id": "2JvMzO_hIGpB",
        "outputId": "b33b622e-297e-4869-a8ac-4b603e244a2e"
      },
      "execution_count": null,
      "outputs": [
        {
          "output_type": "stream",
          "name": "stdout",
          "text": [
            "Looking in indexes: https://pypi.org/simple, https://us-python.pkg.dev/colab-wheels/public/simple/\n",
            "Collecting accelerate\n",
            "  Downloading accelerate-0.16.0-py3-none-any.whl (199 kB)\n",
            "\u001b[2K     \u001b[90m━━━━━━━━━━━━━━━━━━━━━━━━━━━━━━━━━━━━━━━\u001b[0m \u001b[32m199.7/199.7 KB\u001b[0m \u001b[31m5.3 MB/s\u001b[0m eta \u001b[36m0:00:00\u001b[0m\n",
            "\u001b[?25hRequirement already satisfied: psutil in /usr/local/lib/python3.8/dist-packages (from accelerate) (5.4.8)\n",
            "Requirement already satisfied: torch>=1.4.0 in /usr/local/lib/python3.8/dist-packages (from accelerate) (1.13.1+cu116)\n",
            "Requirement already satisfied: numpy>=1.17 in /usr/local/lib/python3.8/dist-packages (from accelerate) (1.22.4)\n",
            "Requirement already satisfied: packaging>=20.0 in /usr/local/lib/python3.8/dist-packages (from accelerate) (23.0)\n",
            "Requirement already satisfied: pyyaml in /usr/local/lib/python3.8/dist-packages (from accelerate) (6.0)\n",
            "Requirement already satisfied: typing-extensions in /usr/local/lib/python3.8/dist-packages (from torch>=1.4.0->accelerate) (4.5.0)\n",
            "Installing collected packages: accelerate\n",
            "Successfully installed accelerate-0.16.0\n"
          ]
        }
      ]
    },
    {
      "cell_type": "code",
      "source": [
        "!pip install sentencepiece"
      ],
      "metadata": {
        "colab": {
          "base_uri": "https://localhost:8080/"
        },
        "id": "Bzf5aEEuvDcC",
        "outputId": "315254f7-95b5-4771-879c-3b59c12564e6"
      },
      "execution_count": null,
      "outputs": [
        {
          "output_type": "stream",
          "name": "stdout",
          "text": [
            "Looking in indexes: https://pypi.org/simple, https://us-python.pkg.dev/colab-wheels/public/simple/\n",
            "Requirement already satisfied: sentencepiece in /usr/local/lib/python3.8/dist-packages (0.1.97)\n"
          ]
        }
      ]
    },
    {
      "cell_type": "code",
      "execution_count": null,
      "metadata": {
        "id": "Qc0YNos4WN-D",
        "colab": {
          "base_uri": "https://localhost:8080/"
        },
        "outputId": "afc636a8-31e1-47b1-e7dc-1490ed7aebb1"
      },
      "outputs": [
        {
          "output_type": "stream",
          "name": "stderr",
          "text": [
            "/usr/local/lib/python3.8/dist-packages/neptune/internal/backends/hosted_client.py:48: NeptuneDeprecationWarning: The 'neptune-client' package has been deprecated and will be removed in the future. Install the 'neptune' package instead. For more, see https://docs.neptune.ai/setup/upgrading/\n",
            "  from neptune.version import version as neptune_client_version\n",
            "/usr/local/lib/python3.8/dist-packages/pytorch_lightning/loggers/neptune.py:39: NeptuneDeprecationWarning: You're importing the Neptune client library via the deprecated `neptune.new` module, which will be removed in a future release. Import directly from `neptune` instead.\n",
            "  from neptune import new as neptune\n"
          ]
        }
      ],
      "source": [
        "import os\n",
        "import sys\n",
        "import torch\n",
        "from torch.utils.data import (\n",
        "    Dataset, TensorDataset,\n",
        "    DataLoader, RandomSampler,\n",
        "    SequentialSampler)\n",
        "import torch.nn as nn\n",
        "import torchmetrics\n",
        "import torchmetrics.functional as func\n",
        "\n",
        "from pytorch_lightning import (\n",
        "    LightningDataModule, LightningModule, \n",
        "    Trainer, seed_everything)\n",
        "from pytorch_lightning.loggers import TensorBoardLogger\n",
        "from pytorch_lightning.callbacks.early_stopping import EarlyStopping\n",
        "from pytorch_lightning import Callback\n",
        "from transformers import (\n",
        "    AdamW,\n",
        "    AutoConfig,\n",
        "    AutoModel,\n",
        "    AutoTokenizer,\n",
        "    get_constant_schedule_with_warmup,\n",
        "    MMBTConfig,\n",
        "    MMBTModel,\n",
        "    VisualBertModel,\n",
        "    AutoModelForCausalLM\n",
        ")\n",
        "from torch.optim.lr_scheduler import MultiStepLR"
      ]
    },
    {
      "cell_type": "code",
      "source": [
        "from transformers import BitsAndBytesConfig"
      ],
      "metadata": {
        "id": "ygEmMlqkGM-A"
      },
      "execution_count": null,
      "outputs": []
    },
    {
      "cell_type": "code",
      "execution_count": null,
      "metadata": {
        "id": "OZCbMSsKDy_H"
      },
      "outputs": [],
      "source": [
        "from torchvision import transforms, models\n",
        "from torchvision.models import detection\n",
        "import cv2\n",
        "from PIL import Image\n",
        "from tqdm import tqdm\n",
        "import csv\n",
        "import gc\n",
        "import json\n",
        "import re\n",
        "import numpy as np\n",
        "import pandas as pd\n",
        "import random\n",
        "from sklearn import preprocessing\n",
        "from sklearn.preprocessing import MultiLabelBinarizer\n",
        "from sklearn.model_selection import train_test_split\n",
        "\n",
        "import sklearn.metrics\n",
        "from sklearn.metrics import confusion_matrix, f1_score\n",
        "from sklearn.metrics import classification_report\n",
        "from sklearn.utils.multiclass import unique_labels\n",
        "import matplotlib.pyplot as plt"
      ]
    },
    {
      "cell_type": "code",
      "source": [
        "from accelerate import init_empty_weights"
      ],
      "metadata": {
        "id": "raFl1GwnIf3C"
      },
      "execution_count": null,
      "outputs": []
    },
    {
      "cell_type": "markdown",
      "source": [
        "# Helper functions"
      ],
      "metadata": {
        "id": "HP-Yhx5WvkLd"
      }
    },
    {
      "cell_type": "code",
      "execution_count": null,
      "metadata": {
        "id": "-eUJKXw_04_3"
      },
      "outputs": [],
      "source": [
        "def plot_confusion_matrix(cm, num_classes=19, title='confusion matrix', \n",
        "                          classes=['negative', 'positive'], cmap=plt.cm.YlGn):\n",
        "\n",
        "    title = title\n",
        "\n",
        "    fig, ax = plt.subplots()\n",
        "    im = ax.imshow(cm, interpolation='nearest', cmap=cmap)\n",
        "    ax.figure.colorbar(im, ax=ax)\n",
        "\n",
        "    ax.set(xticks=np.arange(cm.shape[1]),\n",
        "           yticks=np.arange(cm.shape[0]),\n",
        "           title=title,\n",
        "           yticklabels=classes,\n",
        "           ylabel='True label',\n",
        "           xlabel='Predicted label')\n",
        "\n",
        "    ax.set_ylim(num_classes-0.5, -0.5)\n",
        "\n",
        "    fmt = 'd'\n",
        "    thresh = cm.max() / 2.\n",
        "    for i in range(cm.shape[0]):\n",
        "        for j in range(cm.shape[1]):\n",
        "            ax.text(j, i, format(cm[i, j], fmt),\n",
        "                    ha=\"center\", va=\"center\",\n",
        "                    color=\"white\" if cm[i, j] > thresh else \"black\")\n",
        "    fig.tight_layout()\n",
        "    return ax"
      ]
    },
    {
      "cell_type": "code",
      "execution_count": null,
      "metadata": {
        "id": "G5GJ7AcBvqVC"
      },
      "outputs": [],
      "source": [
        "def plot_confusion_multi(all_cm, classes):\n",
        "  assert len(all_cm)==len(classes)\n",
        "  label =0\n",
        "  for cm in all_cm:\n",
        "    class_name=classes[label]\n",
        "    title=\"confusion matrix for \"+str(class_name)\n",
        "    plot_confusion_matrix(cm,2,title=title)\n",
        "    label=label+1"
      ]
    },
    {
      "cell_type": "code",
      "execution_count": null,
      "metadata": {
        "colab": {
          "base_uri": "https://localhost:8080/"
        },
        "id": "11Ey5qJjVrtq",
        "outputId": "c810657f-816a-4e03-fea9-930ca277bf2d"
      },
      "outputs": [
        {
          "output_type": "stream",
          "name": "stdout",
          "text": [
            "There are 1 GPU(s) available.\n",
            "Device name: Tesla T4\n"
          ]
        }
      ],
      "source": [
        "AVAIL_GPUS = 0\n",
        "if torch.cuda.is_available():       \n",
        "    device = torch.device(\"cuda\")\n",
        "    AVAIL_GPUS = torch.cuda.device_count()\n",
        "    print(f'There are {AVAIL_GPUS} GPU(s) available.')\n",
        "    print('Device name:', torch.cuda.get_device_name(0))\n",
        "                                                                                                                                                                                                                                            \n",
        "else:\n",
        "    print('No GPU available, using the CPU instead.')\n",
        "    device = torch.device(\"cpu\")"
      ]
    },
    {
      "cell_type": "code",
      "execution_count": null,
      "metadata": {
        "id": "AVAuopmJh4uS"
      },
      "outputs": [],
      "source": [
        "def make_dataframe(input_folder, labels_fn=None):\n",
        "    # MAKE TXT DATAFRAME\n",
        "    text = []\n",
        "    for fil in tqdm(filter(lambda x: x.endswith('.txt'), os.listdir(input_folder))):\n",
        "      if fil[1] == \"_\":\n",
        "        fil = fil[2:]\n",
        "      iD = fil[7:].split('.')[0]\n",
        "      lines = list(enumerate(open(input_folder +'/' + fil, 'r', encoding='utf-8').read().splitlines(), 1))\n",
        "      text.extend([(iD,) + line for line in lines])\n",
        "\n",
        "    df_text = pd.DataFrame(text, columns=['id', 'line', 'text'])\n",
        "    df_text.id = df_text.id.apply(int)\n",
        "    df_text.line = df_text.line.apply(int)\n",
        "    df_text = df_text[df_text.text.str.strip().str.len() > 0].copy()\n",
        "    df_text = df_text.set_index(['id', 'line'])\n",
        "\n",
        "    df = df_text\n",
        "\n",
        "    if labels_fn:\n",
        "        # MAKE LABEL DATAFRAME\n",
        "        labels = pd.read_csv(labels_fn, sep='\\t', encoding='utf-8', header=None)\n",
        "        labels = labels.rename(columns={0: 'id', 1: 'line', 2: 'labels'})\n",
        "        labels = labels.set_index(['id', 'line'])\n",
        "        labels = labels[labels.labels.notna()].copy()\n",
        "\n",
        "        # JOIN\n",
        "        df = labels.join(df_text)[['text', 'labels']]\n",
        "\n",
        "    return df"
      ]
    },
    {
      "cell_type": "markdown",
      "metadata": {
        "id": "L7eE5IQBhyVp"
      },
      "source": [
        "#Import Data"
      ]
    },
    {
      "cell_type": "markdown",
      "source": [
        "## Russian Dataset"
      ],
      "metadata": {
        "id": "-QeVNdpMv8XK"
      }
    },
    {
      "cell_type": "code",
      "execution_count": null,
      "metadata": {
        "colab": {
          "base_uri": "https://localhost:8080/"
        },
        "id": "AJJFVr5Bh6WZ",
        "outputId": "b8faf29b-2d58-4888-930d-1ce298a9b39a"
      },
      "outputs": [
        {
          "output_type": "stream",
          "name": "stderr",
          "text": [
            "249it [00:00, 560.10it/s]\n"
          ]
        },
        {
          "output_type": "stream",
          "name": "stdout",
          "text": [
            "Loading dataset...                                                          text  \\\n",
            "id    line                                                      \n",
            "241   1     Кургинян: под прикрытием демократии США привод...   \n",
            "      3     США используют слова о демократии для того, чт...   \n",
            "      5     «Теперь говорится, что у нас ось зла — авторит...   \n",
            "      6     Он отметил, что подобные лидеры не гнушались о...   \n",
            "      8     «Про всех остальных говорили то же самое. Чан ...   \n",
            "...                                                       ...   \n",
            "24191 1       Начался развал НАТО: альянс покинул Лихтенштейн   \n",
            "      3     Всё больше стран стараются дистанцироваться от...   \n",
            "      5     «Мы небольшая европейская страна, нам чужды ми...   \n",
            "      7     Как отмечают эксперты, Лихтенштейн может стать...   \n",
            "      9     «Для простого бюргера важно то, как живёт он и...   \n",
            "\n",
            "                                                       labels  \n",
            "id    line                                                     \n",
            "241   1                                       Loaded_Language  \n",
            "      3                 Loaded_Language,Name_Calling-Labeling  \n",
            "      5     Doubt,Loaded_Language,Name_Calling-Labeling,Re...  \n",
            "      6                            Loaded_Language,Repetition  \n",
            "      8                        Appeal_to_Hypocrisy,Repetition  \n",
            "...                                                       ...  \n",
            "24191 1                            Questioning_the_Reputation  \n",
            "      3     Appeal_to_Popularity,Consequential_Oversimplif...  \n",
            "      5                                       Loaded_Language  \n",
            "      7     Appeal_to_Authority,Appeal_to_Values,Doubt,Loa...  \n",
            "      9                      Consequential_Oversimplification  \n",
            "\n",
            "[2156 rows x 2 columns]\n"
          ]
        },
        {
          "output_type": "stream",
          "name": "stderr",
          "text": [
            "249it [00:00, 789.39it/s]\n",
            "59it [00:00, 1003.11it/s]\n"
          ]
        }
      ],
      "source": [
        "folder_train = '/content/drive/MyDrive/semeval2023task3bundle-v3/data/ru/train-articles-subtask-3'\n",
        "folder_dev = '/content/drive/MyDrive/semeval2023task3bundle-v3/data/ru/dev-articles-subtask-3'\n",
        "labels_train_fn = '/content/drive/MyDrive/semeval2023task3bundle-v3/data/ru/train-labels-subtask-3.txt'\n",
        "labels_dev_fn = '/content/drive/MyDrive/semeval2023task3bundle-v3/data/ru/dev-labels-subtask-3.txt'\n",
        "out_fn = '/content/drive/MyDrive/semeval2023task3bundle-v3/data/output.txt'\n",
        "\n",
        "# Read Data\n",
        "print('Loading dataset...',  make_dataframe(folder_train, labels_train_fn))\n",
        "train = make_dataframe(folder_train, labels_train_fn)\n",
        "train_data = train\n",
        "val_data = make_dataframe(folder_dev, labels_dev_fn)"
      ]
    },
    {
      "cell_type": "markdown",
      "source": [],
      "metadata": {
        "id": "kK2pB0sjyBqh"
      }
    },
    {
      "cell_type": "markdown",
      "source": [
        "## English Dataset"
      ],
      "metadata": {
        "id": "XyRXscTXyCaU"
      }
    },
    {
      "cell_type": "code",
      "execution_count": null,
      "metadata": {
        "colab": {
          "base_uri": "https://localhost:8080/"
        },
        "outputId": "0422056b-dee0-43f0-ae3e-ef9cbe908439",
        "id": "AmNq5bBNyCaU"
      },
      "outputs": [
        {
          "output_type": "stream",
          "name": "stderr",
          "text": [
            "447it [00:03, 134.54it/s]\n"
          ]
        },
        {
          "output_type": "stream",
          "name": "stdout",
          "text": [
            "Loading dataset...                                                              text  \\\n",
            "id        line                                                      \n",
            "111111111 3     Geneva - The World Health Organisation chief o...   \n",
            "          3     Geneva - The World Health Organisation chief o...   \n",
            "          5     \"The next transmission could be more pronounce...   \n",
            "          5     \"The next transmission could be more pronounce...   \n",
            "          13    But Tedros voiced alarm that \"plague in Madaga...   \n",
            "...                                                           ...   \n",
            "999001970 4     Also the Left killed comedy. This is what its ...   \n",
            "          5     Saturday Night Live writer and comedian Nimesh...   \n",
            "          6     That's what Columbia snowflakes thought was of...   \n",
            "          8     Comrades, these jokes you have been listening ...   \n",
            "          13            I'm sure Patel felt very, like, accepted.   \n",
            "\n",
            "                                                         labels  \n",
            "id        line                                                   \n",
            "111111111 3                                               Doubt  \n",
            "          3                                               Doubt  \n",
            "          5                                 Appeal_to_Authority  \n",
            "          5                                 Appeal_to_Authority  \n",
            "          13                                         Repetition  \n",
            "...                                                         ...  \n",
            "999001970 4                   Exaggeration-Minimisation,Slogans  \n",
            "          5                           Exaggeration-Minimisation  \n",
            "          6                               Name_Calling-Labeling  \n",
            "          8     Exaggeration-Minimisation,Name_Calling-Labeling  \n",
            "          13                          Exaggeration-Minimisation  \n",
            "\n",
            "[3767 rows x 2 columns]\n"
          ]
        },
        {
          "output_type": "stream",
          "name": "stderr",
          "text": [
            "447it [00:00, 633.26it/s]\n",
            "90it [00:16,  5.33it/s]\n"
          ]
        }
      ],
      "source": [
        "folder_train = '/content/drive/MyDrive/semeval2023task3bundle-v3/data/en/train-articles-subtask-3'\n",
        "folder_dev = '/content/drive/MyDrive/semeval2023task3bundle-v3/data/en/dev-articles-subtask-3'\n",
        "labels_train_fn = '/content/drive/MyDrive/semeval2023task3bundle-v3/data/en/train-labels-subtask-3.txt'\n",
        "labels_dev_fn = '/content/drive/MyDrive/semeval2023task3bundle-v3/data/en/dev-labels-subtask-3.txt'\n",
        "out_fn = '/content/drive/MyDrive/semeval2023task3bundle-v3/data/output.txt'\n",
        "\n",
        "# Read Data\n",
        "print('Loading dataset...',  make_dataframe(folder_train, labels_train_fn))\n",
        "train = make_dataframe(folder_train, labels_train_fn)\n",
        "train_data = train\n",
        "val_data = make_dataframe(folder_dev, labels_dev_fn)"
      ]
    },
    {
      "cell_type": "markdown",
      "source": [],
      "metadata": {
        "id": "YtC04bkQyUXu"
      }
    },
    {
      "cell_type": "markdown",
      "source": [
        "## German Dataset"
      ],
      "metadata": {
        "id": "zBpn_Gj1yU9M"
      }
    },
    {
      "cell_type": "code",
      "execution_count": null,
      "metadata": {
        "colab": {
          "base_uri": "https://localhost:8080/"
        },
        "outputId": "36f03b7b-11b6-46c6-cef5-408b2963b91a",
        "id": "q1hqfBQfyU9N"
      },
      "outputs": [
        {
          "output_type": "stream",
          "name": "stderr",
          "text": [
            "132it [00:00, 140.98it/s]\n"
          ]
        },
        {
          "output_type": "stream",
          "name": "stdout",
          "text": [
            "Loading dataset...                                                         text  \\\n",
            "id   line                                                      \n",
            "221  1     USA verbreiten gefakte Geschichten, um Russlan...   \n",
            "     3     Die Genies (nicht) im Nationalen Sicherheitsra...   \n",
            "     5     WASHINGTON – Die Vereinigten Staaten haben Inf...   \n",
            "2210 3     Wladimir Putin, der Präsident Russlands, ist d...   \n",
            "     5     Trotz dieser harten Charakterisierungen des ru...   \n",
            "...                                                      ...   \n",
            "2299 9     »Man muss davon ausgehen, dass sich der Neubau...   \n",
            "     15    Die Tageszeitung junge Welt stört die Herrsche...   \n",
            "     21                Lindners Streichoffertevom 08.07.2022   \n",
            "     23                  Watschn für A-20-Planvom 08.07.2022   \n",
            "     25            »Ab Tutzing alles im Arsch«vom 08.07.2022   \n",
            "\n",
            "                                                      labels  \n",
            "id   line                                                     \n",
            "221  1     Loaded_Language,Name_Calling-Labeling,Question...  \n",
            "     3     Loaded_Language,Name_Calling-Labeling,Question...  \n",
            "     5                                 Name_Calling-Labeling  \n",
            "2210 3       Guilt_by_Association,Questioning_the_Reputation  \n",
            "     5      Name_Calling-Labeling,Questioning_the_Reputation  \n",
            "...                                                      ...  \n",
            "2299 9       Appeal_to_Hypocrisy,Doubt,Name_Calling-Labeling  \n",
            "     15            Appeal_to_Fear-Prejudice,Appeal_to_Values  \n",
            "     21                                Name_Calling-Labeling  \n",
            "     23                                Name_Calling-Labeling  \n",
            "     25                                      Loaded_Language  \n",
            "\n",
            "[1252 rows x 2 columns]\n"
          ]
        },
        {
          "output_type": "stream",
          "name": "stderr",
          "text": [
            "132it [00:00, 1081.06it/s]\n",
            "45it [00:08,  5.08it/s]\n"
          ]
        }
      ],
      "source": [
        "folder_train = '/content/drive/MyDrive/semeval2023task3bundle-v3/data/ge/train-articles-subtask-3'\n",
        "folder_dev = '/content/drive/MyDrive/semeval2023task3bundle-v3/data/ge/dev-articles-subtask-3'\n",
        "labels_train_fn = '/content/drive/MyDrive/semeval2023task3bundle-v3/data/ge/train-labels-subtask-3.txt'\n",
        "labels_dev_fn = '/content/drive/MyDrive/semeval2023task3bundle-v3/data/ge/dev-labels-subtask-3.txt'\n",
        "out_fn = '/content/drive/MyDrive/semeval2023task3bundle-v3/data/output.txt'\n",
        "\n",
        "# Read Data\n",
        "print('Loading dataset...',  make_dataframe(folder_train, labels_train_fn))\n",
        "train = make_dataframe(folder_train, labels_train_fn)\n",
        "train_data = train\n",
        "val_data = make_dataframe(folder_dev, labels_dev_fn)"
      ]
    },
    {
      "cell_type": "markdown",
      "metadata": {
        "id": "pPcYUi4aC5Ea"
      },
      "source": [
        "# PTC: Propaganda Techniques corpus \n"
      ]
    },
    {
      "cell_type": "markdown",
      "metadata": {
        "id": "LHR31Es61Wyj"
      },
      "source": [
        "## PTC - Training "
      ]
    },
    {
      "cell_type": "markdown",
      "metadata": {
        "id": "gbUChrtMtoax"
      },
      "source": [
        "### Dataset"
      ]
    },
    {
      "cell_type": "code",
      "execution_count": null,
      "metadata": {
        "id": "SArAb3UN1aOR"
      },
      "outputs": [],
      "source": [
        "class PTCDataset(Dataset):\n",
        "    def __init__(self, input_id, attention, labels):\n",
        "        self.attention = attention\n",
        "        self.input_id = input_id\n",
        "        self.labels = labels\n",
        "\n",
        "    def __len__(self):\n",
        "        return len(self.labels)\n",
        "\n",
        "    def __getitem__(self, idx):\n",
        "        attention = self.attention[idx]\n",
        "        label = self.labels[idx]\n",
        "        input_id = self.input_id[idx]\n",
        "        sample = {\"attention_mask\": attention,\n",
        "                  \"input_ids\": input_id, \"labels\": label}\n",
        "        return sample"
      ]
    },
    {
      "cell_type": "code",
      "execution_count": null,
      "metadata": {
        "id": "FgyPC-Q5h9Tq"
      },
      "outputs": [],
      "source": [
        "train_data = train_data.set_index('text').labels.str.split(',', expand=True).stack().reset_index(level=1, drop=True).reset_index()\n",
        "val_data = val_data.set_index('text').labels.str.split(',', expand=True).stack().reset_index(level=1, drop=True).reset_index()\n",
        "\n",
        "train_data['label'] = train_data[0]\n",
        "train_data = train_data.drop(columns=[0])\n",
        "\n",
        "val_data['label'] = val_data[0]\n",
        "val_data = val_data.drop(columns=[0])\n",
        "\n",
        "labels_count = train_data['label'].nunique()"
      ]
    },
    {
      "cell_type": "markdown",
      "metadata": {
        "id": "97Nxt5cDryTB"
      },
      "source": [
        "Overview of the dataset characteristics and of the distribution of the classes."
      ]
    },
    {
      "cell_type": "code",
      "execution_count": null,
      "metadata": {
        "colab": {
          "base_uri": "https://localhost:8080/"
        },
        "id": "wGbG4dsAHPjs",
        "outputId": "1188aac2-f4f6-4cae-ac98-22ff5573865f"
      },
      "outputs": [
        {
          "output_type": "execute_result",
          "data": {
            "text/plain": [
              "                                                   text  \\\n",
              "0     USA verbreiten gefakte Geschichten, um Russlan...   \n",
              "1     USA verbreiten gefakte Geschichten, um Russlan...   \n",
              "2     USA verbreiten gefakte Geschichten, um Russlan...   \n",
              "3     Die Genies (nicht) im Nationalen Sicherheitsra...   \n",
              "4     Die Genies (nicht) im Nationalen Sicherheitsra...   \n",
              "...                                                 ...   \n",
              "3048  Die Tageszeitung junge Welt stört die Herrsche...   \n",
              "3049  Die Tageszeitung junge Welt stört die Herrsche...   \n",
              "3050              Lindners Streichoffertevom 08.07.2022   \n",
              "3051                Watschn für A-20-Planvom 08.07.2022   \n",
              "3052          »Ab Tutzing alles im Arsch«vom 08.07.2022   \n",
              "\n",
              "                           label  \n",
              "0                Loaded_Language  \n",
              "1          Name_Calling-Labeling  \n",
              "2     Questioning_the_Reputation  \n",
              "3                Loaded_Language  \n",
              "4          Name_Calling-Labeling  \n",
              "...                          ...  \n",
              "3048    Appeal_to_Fear-Prejudice  \n",
              "3049            Appeal_to_Values  \n",
              "3050       Name_Calling-Labeling  \n",
              "3051       Name_Calling-Labeling  \n",
              "3052             Loaded_Language  \n",
              "\n",
              "[3053 rows x 2 columns]"
            ],
            "text/html": [
              "\n",
              "  <div id=\"df-19a87877-b4ed-47a5-aac8-3518bfe234d9\">\n",
              "    <div class=\"colab-df-container\">\n",
              "      <div>\n",
              "<style scoped>\n",
              "    .dataframe tbody tr th:only-of-type {\n",
              "        vertical-align: middle;\n",
              "    }\n",
              "\n",
              "    .dataframe tbody tr th {\n",
              "        vertical-align: top;\n",
              "    }\n",
              "\n",
              "    .dataframe thead th {\n",
              "        text-align: right;\n",
              "    }\n",
              "</style>\n",
              "<table border=\"1\" class=\"dataframe\">\n",
              "  <thead>\n",
              "    <tr style=\"text-align: right;\">\n",
              "      <th></th>\n",
              "      <th>text</th>\n",
              "      <th>label</th>\n",
              "    </tr>\n",
              "  </thead>\n",
              "  <tbody>\n",
              "    <tr>\n",
              "      <th>0</th>\n",
              "      <td>USA verbreiten gefakte Geschichten, um Russlan...</td>\n",
              "      <td>Loaded_Language</td>\n",
              "    </tr>\n",
              "    <tr>\n",
              "      <th>1</th>\n",
              "      <td>USA verbreiten gefakte Geschichten, um Russlan...</td>\n",
              "      <td>Name_Calling-Labeling</td>\n",
              "    </tr>\n",
              "    <tr>\n",
              "      <th>2</th>\n",
              "      <td>USA verbreiten gefakte Geschichten, um Russlan...</td>\n",
              "      <td>Questioning_the_Reputation</td>\n",
              "    </tr>\n",
              "    <tr>\n",
              "      <th>3</th>\n",
              "      <td>Die Genies (nicht) im Nationalen Sicherheitsra...</td>\n",
              "      <td>Loaded_Language</td>\n",
              "    </tr>\n",
              "    <tr>\n",
              "      <th>4</th>\n",
              "      <td>Die Genies (nicht) im Nationalen Sicherheitsra...</td>\n",
              "      <td>Name_Calling-Labeling</td>\n",
              "    </tr>\n",
              "    <tr>\n",
              "      <th>...</th>\n",
              "      <td>...</td>\n",
              "      <td>...</td>\n",
              "    </tr>\n",
              "    <tr>\n",
              "      <th>3048</th>\n",
              "      <td>Die Tageszeitung junge Welt stört die Herrsche...</td>\n",
              "      <td>Appeal_to_Fear-Prejudice</td>\n",
              "    </tr>\n",
              "    <tr>\n",
              "      <th>3049</th>\n",
              "      <td>Die Tageszeitung junge Welt stört die Herrsche...</td>\n",
              "      <td>Appeal_to_Values</td>\n",
              "    </tr>\n",
              "    <tr>\n",
              "      <th>3050</th>\n",
              "      <td>Lindners Streichoffertevom 08.07.2022</td>\n",
              "      <td>Name_Calling-Labeling</td>\n",
              "    </tr>\n",
              "    <tr>\n",
              "      <th>3051</th>\n",
              "      <td>Watschn für A-20-Planvom 08.07.2022</td>\n",
              "      <td>Name_Calling-Labeling</td>\n",
              "    </tr>\n",
              "    <tr>\n",
              "      <th>3052</th>\n",
              "      <td>»Ab Tutzing alles im Arsch«vom 08.07.2022</td>\n",
              "      <td>Loaded_Language</td>\n",
              "    </tr>\n",
              "  </tbody>\n",
              "</table>\n",
              "<p>3053 rows × 2 columns</p>\n",
              "</div>\n",
              "      <button class=\"colab-df-convert\" onclick=\"convertToInteractive('df-19a87877-b4ed-47a5-aac8-3518bfe234d9')\"\n",
              "              title=\"Convert this dataframe to an interactive table.\"\n",
              "              style=\"display:none;\">\n",
              "        \n",
              "  <svg xmlns=\"http://www.w3.org/2000/svg\" height=\"24px\"viewBox=\"0 0 24 24\"\n",
              "       width=\"24px\">\n",
              "    <path d=\"M0 0h24v24H0V0z\" fill=\"none\"/>\n",
              "    <path d=\"M18.56 5.44l.94 2.06.94-2.06 2.06-.94-2.06-.94-.94-2.06-.94 2.06-2.06.94zm-11 1L8.5 8.5l.94-2.06 2.06-.94-2.06-.94L8.5 2.5l-.94 2.06-2.06.94zm10 10l.94 2.06.94-2.06 2.06-.94-2.06-.94-.94-2.06-.94 2.06-2.06.94z\"/><path d=\"M17.41 7.96l-1.37-1.37c-.4-.4-.92-.59-1.43-.59-.52 0-1.04.2-1.43.59L10.3 9.45l-7.72 7.72c-.78.78-.78 2.05 0 2.83L4 21.41c.39.39.9.59 1.41.59.51 0 1.02-.2 1.41-.59l7.78-7.78 2.81-2.81c.8-.78.8-2.07 0-2.86zM5.41 20L4 18.59l7.72-7.72 1.47 1.35L5.41 20z\"/>\n",
              "  </svg>\n",
              "      </button>\n",
              "      \n",
              "  <style>\n",
              "    .colab-df-container {\n",
              "      display:flex;\n",
              "      flex-wrap:wrap;\n",
              "      gap: 12px;\n",
              "    }\n",
              "\n",
              "    .colab-df-convert {\n",
              "      background-color: #E8F0FE;\n",
              "      border: none;\n",
              "      border-radius: 50%;\n",
              "      cursor: pointer;\n",
              "      display: none;\n",
              "      fill: #1967D2;\n",
              "      height: 32px;\n",
              "      padding: 0 0 0 0;\n",
              "      width: 32px;\n",
              "    }\n",
              "\n",
              "    .colab-df-convert:hover {\n",
              "      background-color: #E2EBFA;\n",
              "      box-shadow: 0px 1px 2px rgba(60, 64, 67, 0.3), 0px 1px 3px 1px rgba(60, 64, 67, 0.15);\n",
              "      fill: #174EA6;\n",
              "    }\n",
              "\n",
              "    [theme=dark] .colab-df-convert {\n",
              "      background-color: #3B4455;\n",
              "      fill: #D2E3FC;\n",
              "    }\n",
              "\n",
              "    [theme=dark] .colab-df-convert:hover {\n",
              "      background-color: #434B5C;\n",
              "      box-shadow: 0px 1px 3px 1px rgba(0, 0, 0, 0.15);\n",
              "      filter: drop-shadow(0px 1px 2px rgba(0, 0, 0, 0.3));\n",
              "      fill: #FFFFFF;\n",
              "    }\n",
              "  </style>\n",
              "\n",
              "      <script>\n",
              "        const buttonEl =\n",
              "          document.querySelector('#df-19a87877-b4ed-47a5-aac8-3518bfe234d9 button.colab-df-convert');\n",
              "        buttonEl.style.display =\n",
              "          google.colab.kernel.accessAllowed ? 'block' : 'none';\n",
              "\n",
              "        async function convertToInteractive(key) {\n",
              "          const element = document.querySelector('#df-19a87877-b4ed-47a5-aac8-3518bfe234d9');\n",
              "          const dataTable =\n",
              "            await google.colab.kernel.invokeFunction('convertToInteractive',\n",
              "                                                     [key], {});\n",
              "          if (!dataTable) return;\n",
              "\n",
              "          const docLinkHtml = 'Like what you see? Visit the ' +\n",
              "            '<a target=\"_blank\" href=https://colab.research.google.com/notebooks/data_table.ipynb>data table notebook</a>'\n",
              "            + ' to learn more about interactive tables.';\n",
              "          element.innerHTML = '';\n",
              "          dataTable['output_type'] = 'display_data';\n",
              "          await google.colab.output.renderOutput(dataTable, element);\n",
              "          const docLink = document.createElement('div');\n",
              "          docLink.innerHTML = docLinkHtml;\n",
              "          element.appendChild(docLink);\n",
              "        }\n",
              "      </script>\n",
              "    </div>\n",
              "  </div>\n",
              "  "
            ]
          },
          "metadata": {},
          "execution_count": 17
        }
      ],
      "source": [
        "train_data"
      ]
    },
    {
      "cell_type": "code",
      "execution_count": null,
      "metadata": {
        "colab": {
          "base_uri": "https://localhost:8080/"
        },
        "id": "SUW_PogSHUiU",
        "outputId": "7eb39099-dd81-4257-c00c-ae6158682406"
      },
      "outputs": [
        {
          "output_type": "execute_result",
          "data": {
            "text/plain": [
              "                                                     text  \\\n",
              "count                                                3053   \n",
              "unique                                               1245   \n",
              "top     Doch Emmanuel Macron hält sich an die alte Dok...   \n",
              "freq                                                   11   \n",
              "\n",
              "                        label  \n",
              "count                    3053  \n",
              "unique                     23  \n",
              "top     Name_Calling-Labeling  \n",
              "freq                      734  "
            ],
            "text/html": [
              "\n",
              "  <div id=\"df-f0c2291f-c946-4bb8-84e3-b1fab8b99326\">\n",
              "    <div class=\"colab-df-container\">\n",
              "      <div>\n",
              "<style scoped>\n",
              "    .dataframe tbody tr th:only-of-type {\n",
              "        vertical-align: middle;\n",
              "    }\n",
              "\n",
              "    .dataframe tbody tr th {\n",
              "        vertical-align: top;\n",
              "    }\n",
              "\n",
              "    .dataframe thead th {\n",
              "        text-align: right;\n",
              "    }\n",
              "</style>\n",
              "<table border=\"1\" class=\"dataframe\">\n",
              "  <thead>\n",
              "    <tr style=\"text-align: right;\">\n",
              "      <th></th>\n",
              "      <th>text</th>\n",
              "      <th>label</th>\n",
              "    </tr>\n",
              "  </thead>\n",
              "  <tbody>\n",
              "    <tr>\n",
              "      <th>count</th>\n",
              "      <td>3053</td>\n",
              "      <td>3053</td>\n",
              "    </tr>\n",
              "    <tr>\n",
              "      <th>unique</th>\n",
              "      <td>1245</td>\n",
              "      <td>23</td>\n",
              "    </tr>\n",
              "    <tr>\n",
              "      <th>top</th>\n",
              "      <td>Doch Emmanuel Macron hält sich an die alte Dok...</td>\n",
              "      <td>Name_Calling-Labeling</td>\n",
              "    </tr>\n",
              "    <tr>\n",
              "      <th>freq</th>\n",
              "      <td>11</td>\n",
              "      <td>734</td>\n",
              "    </tr>\n",
              "  </tbody>\n",
              "</table>\n",
              "</div>\n",
              "      <button class=\"colab-df-convert\" onclick=\"convertToInteractive('df-f0c2291f-c946-4bb8-84e3-b1fab8b99326')\"\n",
              "              title=\"Convert this dataframe to an interactive table.\"\n",
              "              style=\"display:none;\">\n",
              "        \n",
              "  <svg xmlns=\"http://www.w3.org/2000/svg\" height=\"24px\"viewBox=\"0 0 24 24\"\n",
              "       width=\"24px\">\n",
              "    <path d=\"M0 0h24v24H0V0z\" fill=\"none\"/>\n",
              "    <path d=\"M18.56 5.44l.94 2.06.94-2.06 2.06-.94-2.06-.94-.94-2.06-.94 2.06-2.06.94zm-11 1L8.5 8.5l.94-2.06 2.06-.94-2.06-.94L8.5 2.5l-.94 2.06-2.06.94zm10 10l.94 2.06.94-2.06 2.06-.94-2.06-.94-.94-2.06-.94 2.06-2.06.94z\"/><path d=\"M17.41 7.96l-1.37-1.37c-.4-.4-.92-.59-1.43-.59-.52 0-1.04.2-1.43.59L10.3 9.45l-7.72 7.72c-.78.78-.78 2.05 0 2.83L4 21.41c.39.39.9.59 1.41.59.51 0 1.02-.2 1.41-.59l7.78-7.78 2.81-2.81c.8-.78.8-2.07 0-2.86zM5.41 20L4 18.59l7.72-7.72 1.47 1.35L5.41 20z\"/>\n",
              "  </svg>\n",
              "      </button>\n",
              "      \n",
              "  <style>\n",
              "    .colab-df-container {\n",
              "      display:flex;\n",
              "      flex-wrap:wrap;\n",
              "      gap: 12px;\n",
              "    }\n",
              "\n",
              "    .colab-df-convert {\n",
              "      background-color: #E8F0FE;\n",
              "      border: none;\n",
              "      border-radius: 50%;\n",
              "      cursor: pointer;\n",
              "      display: none;\n",
              "      fill: #1967D2;\n",
              "      height: 32px;\n",
              "      padding: 0 0 0 0;\n",
              "      width: 32px;\n",
              "    }\n",
              "\n",
              "    .colab-df-convert:hover {\n",
              "      background-color: #E2EBFA;\n",
              "      box-shadow: 0px 1px 2px rgba(60, 64, 67, 0.3), 0px 1px 3px 1px rgba(60, 64, 67, 0.15);\n",
              "      fill: #174EA6;\n",
              "    }\n",
              "\n",
              "    [theme=dark] .colab-df-convert {\n",
              "      background-color: #3B4455;\n",
              "      fill: #D2E3FC;\n",
              "    }\n",
              "\n",
              "    [theme=dark] .colab-df-convert:hover {\n",
              "      background-color: #434B5C;\n",
              "      box-shadow: 0px 1px 3px 1px rgba(0, 0, 0, 0.15);\n",
              "      filter: drop-shadow(0px 1px 2px rgba(0, 0, 0, 0.3));\n",
              "      fill: #FFFFFF;\n",
              "    }\n",
              "  </style>\n",
              "\n",
              "      <script>\n",
              "        const buttonEl =\n",
              "          document.querySelector('#df-f0c2291f-c946-4bb8-84e3-b1fab8b99326 button.colab-df-convert');\n",
              "        buttonEl.style.display =\n",
              "          google.colab.kernel.accessAllowed ? 'block' : 'none';\n",
              "\n",
              "        async function convertToInteractive(key) {\n",
              "          const element = document.querySelector('#df-f0c2291f-c946-4bb8-84e3-b1fab8b99326');\n",
              "          const dataTable =\n",
              "            await google.colab.kernel.invokeFunction('convertToInteractive',\n",
              "                                                     [key], {});\n",
              "          if (!dataTable) return;\n",
              "\n",
              "          const docLinkHtml = 'Like what you see? Visit the ' +\n",
              "            '<a target=\"_blank\" href=https://colab.research.google.com/notebooks/data_table.ipynb>data table notebook</a>'\n",
              "            + ' to learn more about interactive tables.';\n",
              "          element.innerHTML = '';\n",
              "          dataTable['output_type'] = 'display_data';\n",
              "          await google.colab.output.renderOutput(dataTable, element);\n",
              "          const docLink = document.createElement('div');\n",
              "          docLink.innerHTML = docLinkHtml;\n",
              "          element.appendChild(docLink);\n",
              "        }\n",
              "      </script>\n",
              "    </div>\n",
              "  </div>\n",
              "  "
            ]
          },
          "metadata": {},
          "execution_count": 18
        }
      ],
      "source": [
        "train_data.describe()"
      ]
    },
    {
      "cell_type": "code",
      "execution_count": null,
      "metadata": {
        "colab": {
          "base_uri": "https://localhost:8080/"
        },
        "id": "LR4AM7kSHXPe",
        "outputId": "6f6fd6c9-eb1d-4586-c26b-ece13bc04098"
      },
      "outputs": [
        {
          "output_type": "execute_result",
          "data": {
            "text/plain": [
              "label\n",
              "Appeal_to_Authority                 225\n",
              "Appeal_to_Fear-Prejudice            182\n",
              "Appeal_to_Hypocrisy                 136\n",
              "Appeal_to_Popularity                 63\n",
              "Appeal_to_Time                       11\n",
              "Appeal_to_Values                     73\n",
              "Causal_Oversimplification            33\n",
              "Consequential_Oversimplification     35\n",
              "Conversation_Killer                 121\n",
              "Doubt                               288\n",
              "Exaggeration-Minimisation           157\n",
              "False_Dilemma-No_Choice              41\n",
              "Flag_Waving                          65\n",
              "Guilt_by_Association                122\n",
              "Loaded_Language                     242\n",
              "Name_Calling-Labeling               734\n",
              "Obfuscation-Vagueness-Confusion      62\n",
              "Questioning_the_Reputation          310\n",
              "Red_Herring                          30\n",
              "Repetition                            8\n",
              "Slogans                              87\n",
              "Straw_Man                            15\n",
              "Whataboutism                         13\n",
              "dtype: int64"
            ]
          },
          "metadata": {},
          "execution_count": 19
        }
      ],
      "source": [
        "frequences = train_data.groupby(['label']).size()\n",
        "frequences"
      ]
    },
    {
      "cell_type": "code",
      "execution_count": null,
      "metadata": {
        "colab": {
          "base_uri": "https://localhost:8080/"
        },
        "id": "-BkzV-naHYp1",
        "outputId": "d024b09d-0521-4b31-a96e-d4193d4f5db6"
      },
      "outputs": [
        {
          "output_type": "execute_result",
          "data": {
            "text/plain": [
              "<AxesSubplot:xlabel='label'>"
            ]
          },
          "metadata": {},
          "execution_count": 20
        },
        {
          "output_type": "display_data",
          "data": {
            "text/plain": [
              "<Figure size 432x288 with 1 Axes>"
            ],
            "image/png": "[encoded data removed]"
          },
          "metadata": {
            "needs_background": "light"
          }
        }
      ],
      "source": [
        "frequences.plot(kind='bar')"
      ]
    },
    {
      "cell_type": "markdown",
      "source": [
        "## Filter < 50"
      ],
      "metadata": {
        "id": "glwbCCpivy-7"
      }
    },
    {
      "cell_type": "code",
      "source": [
        "# filter the dataframe to only include labels with frequency < 50\n",
        "freq_less_than_50 = list(train_data.groupby('label').filter(lambda x: len(x) < 50)['label'].unique())"
      ],
      "metadata": {
        "id": "6YOmDSnCv1zd"
      },
      "execution_count": null,
      "outputs": []
    },
    {
      "cell_type": "code",
      "source": [
        "freq_less_than_50"
      ],
      "metadata": {
        "colab": {
          "base_uri": "https://localhost:8080/"
        },
        "id": "oDNSClqd3ON1",
        "outputId": "418578c9-5949-43e3-a5d8-1008f87f9466"
      },
      "execution_count": null,
      "outputs": [
        {
          "output_type": "execute_result",
          "data": {
            "text/plain": [
              "['Consequential_Oversimplification',\n",
              " 'False_Dilemma-No_Choice',\n",
              " 'Causal_Oversimplification',\n",
              " 'Appeal_to_Time',\n",
              " 'Straw_Man',\n",
              " 'Whataboutism',\n",
              " 'Red_Herring',\n",
              " 'Repetition']"
            ]
          },
          "metadata": {},
          "execution_count": 22
        }
      ]
    },
    {
      "cell_type": "code",
      "source": [
        "rows_to_remove = train_data['label'].str.contains('|'.join(freq_less_than_50))\n",
        "\n",
        "\n",
        "train_data_small = train_data[rows_to_remove]\n",
        "train_data_trimmed = train_data[~rows_to_remove]\n",
        "\n",
        "rows_to_remove = val_data['label'].str.contains('|'.join(freq_less_than_50))"
      ],
      "metadata": {
        "id": "pMKFf8XKwK_s"
      },
      "execution_count": null,
      "outputs": []
    },
    {
      "cell_type": "code",
      "source": [
        "train_data = train_data_trimmed\n",
        "val_data = val_data[~rows_to_remove]\n",
        "\n",
        "labels_count = train_data['label'].nunique()"
      ],
      "metadata": {
        "id": "S7F7SUkUwT5R"
      },
      "execution_count": null,
      "outputs": []
    },
    {
      "cell_type": "code",
      "source": [
        "train_data.describe()"
      ],
      "metadata": {
        "colab": {
          "base_uri": "https://localhost:8080/"
        },
        "id": "VCuirAGU3VTI",
        "outputId": "3e9b3479-de58-48df-a6f1-36d627558826"
      },
      "execution_count": null,
      "outputs": [
        {
          "output_type": "execute_result",
          "data": {
            "text/plain": [
              "                                                     text  \\\n",
              "count                                                2867   \n",
              "unique                                               1223   \n",
              "top     Doch Emmanuel Macron hält sich an die alte Dok...   \n",
              "freq                                                   10   \n",
              "\n",
              "                        label  \n",
              "count                    2867  \n",
              "unique                     15  \n",
              "top     Name_Calling-Labeling  \n",
              "freq                      734  "
            ],
            "text/html": [
              "\n",
              "  <div id=\"df-9ddef168-08d9-4891-a10d-af9a33841047\">\n",
              "    <div class=\"colab-df-container\">\n",
              "      <div>\n",
              "<style scoped>\n",
              "    .dataframe tbody tr th:only-of-type {\n",
              "        vertical-align: middle;\n",
              "    }\n",
              "\n",
              "    .dataframe tbody tr th {\n",
              "        vertical-align: top;\n",
              "    }\n",
              "\n",
              "    .dataframe thead th {\n",
              "        text-align: right;\n",
              "    }\n",
              "</style>\n",
              "<table border=\"1\" class=\"dataframe\">\n",
              "  <thead>\n",
              "    <tr style=\"text-align: right;\">\n",
              "      <th></th>\n",
              "      <th>text</th>\n",
              "      <th>label</th>\n",
              "    </tr>\n",
              "  </thead>\n",
              "  <tbody>\n",
              "    <tr>\n",
              "      <th>count</th>\n",
              "      <td>2867</td>\n",
              "      <td>2867</td>\n",
              "    </tr>\n",
              "    <tr>\n",
              "      <th>unique</th>\n",
              "      <td>1223</td>\n",
              "      <td>15</td>\n",
              "    </tr>\n",
              "    <tr>\n",
              "      <th>top</th>\n",
              "      <td>Doch Emmanuel Macron hält sich an die alte Dok...</td>\n",
              "      <td>Name_Calling-Labeling</td>\n",
              "    </tr>\n",
              "    <tr>\n",
              "      <th>freq</th>\n",
              "      <td>10</td>\n",
              "      <td>734</td>\n",
              "    </tr>\n",
              "  </tbody>\n",
              "</table>\n",
              "</div>\n",
              "      <button class=\"colab-df-convert\" onclick=\"convertToInteractive('df-9ddef168-08d9-4891-a10d-af9a33841047')\"\n",
              "              title=\"Convert this dataframe to an interactive table.\"\n",
              "              style=\"display:none;\">\n",
              "        \n",
              "  <svg xmlns=\"http://www.w3.org/2000/svg\" height=\"24px\"viewBox=\"0 0 24 24\"\n",
              "       width=\"24px\">\n",
              "    <path d=\"M0 0h24v24H0V0z\" fill=\"none\"/>\n",
              "    <path d=\"M18.56 5.44l.94 2.06.94-2.06 2.06-.94-2.06-.94-.94-2.06-.94 2.06-2.06.94zm-11 1L8.5 8.5l.94-2.06 2.06-.94-2.06-.94L8.5 2.5l-.94 2.06-2.06.94zm10 10l.94 2.06.94-2.06 2.06-.94-2.06-.94-.94-2.06-.94 2.06-2.06.94z\"/><path d=\"M17.41 7.96l-1.37-1.37c-.4-.4-.92-.59-1.43-.59-.52 0-1.04.2-1.43.59L10.3 9.45l-7.72 7.72c-.78.78-.78 2.05 0 2.83L4 21.41c.39.39.9.59 1.41.59.51 0 1.02-.2 1.41-.59l7.78-7.78 2.81-2.81c.8-.78.8-2.07 0-2.86zM5.41 20L4 18.59l7.72-7.72 1.47 1.35L5.41 20z\"/>\n",
              "  </svg>\n",
              "      </button>\n",
              "      \n",
              "  <style>\n",
              "    .colab-df-container {\n",
              "      display:flex;\n",
              "      flex-wrap:wrap;\n",
              "      gap: 12px;\n",
              "    }\n",
              "\n",
              "    .colab-df-convert {\n",
              "      background-color: #E8F0FE;\n",
              "      border: none;\n",
              "      border-radius: 50%;\n",
              "      cursor: pointer;\n",
              "      display: none;\n",
              "      fill: #1967D2;\n",
              "      height: 32px;\n",
              "      padding: 0 0 0 0;\n",
              "      width: 32px;\n",
              "    }\n",
              "\n",
              "    .colab-df-convert:hover {\n",
              "      background-color: #E2EBFA;\n",
              "      box-shadow: 0px 1px 2px rgba(60, 64, 67, 0.3), 0px 1px 3px 1px rgba(60, 64, 67, 0.15);\n",
              "      fill: #174EA6;\n",
              "    }\n",
              "\n",
              "    [theme=dark] .colab-df-convert {\n",
              "      background-color: #3B4455;\n",
              "      fill: #D2E3FC;\n",
              "    }\n",
              "\n",
              "    [theme=dark] .colab-df-convert:hover {\n",
              "      background-color: #434B5C;\n",
              "      box-shadow: 0px 1px 3px 1px rgba(0, 0, 0, 0.15);\n",
              "      filter: drop-shadow(0px 1px 2px rgba(0, 0, 0, 0.3));\n",
              "      fill: #FFFFFF;\n",
              "    }\n",
              "  </style>\n",
              "\n",
              "      <script>\n",
              "        const buttonEl =\n",
              "          document.querySelector('#df-9ddef168-08d9-4891-a10d-af9a33841047 button.colab-df-convert');\n",
              "        buttonEl.style.display =\n",
              "          google.colab.kernel.accessAllowed ? 'block' : 'none';\n",
              "\n",
              "        async function convertToInteractive(key) {\n",
              "          const element = document.querySelector('#df-9ddef168-08d9-4891-a10d-af9a33841047');\n",
              "          const dataTable =\n",
              "            await google.colab.kernel.invokeFunction('convertToInteractive',\n",
              "                                                     [key], {});\n",
              "          if (!dataTable) return;\n",
              "\n",
              "          const docLinkHtml = 'Like what you see? Visit the ' +\n",
              "            '<a target=\"_blank\" href=https://colab.research.google.com/notebooks/data_table.ipynb>data table notebook</a>'\n",
              "            + ' to learn more about interactive tables.';\n",
              "          element.innerHTML = '';\n",
              "          dataTable['output_type'] = 'display_data';\n",
              "          await google.colab.output.renderOutput(dataTable, element);\n",
              "          const docLink = document.createElement('div');\n",
              "          docLink.innerHTML = docLinkHtml;\n",
              "          element.appendChild(docLink);\n",
              "        }\n",
              "      </script>\n",
              "    </div>\n",
              "  </div>\n",
              "  "
            ]
          },
          "metadata": {},
          "execution_count": 25
        }
      ]
    },
    {
      "cell_type": "code",
      "source": [
        "val_data.describe()\n",
        "frequences = val_data.groupby(['label']).size()\n",
        "frequences.plot(kind='bar')"
      ],
      "metadata": {
        "colab": {
          "base_uri": "https://localhost:8080/"
        },
        "id": "BcQnPb-K3YU8",
        "outputId": "ec7236a5-5977-44e5-ceac-f3ae9de04115"
      },
      "execution_count": null,
      "outputs": [
        {
          "output_type": "execute_result",
          "data": {
            "text/plain": [
              "<AxesSubplot:xlabel='label'>"
            ]
          },
          "metadata": {},
          "execution_count": 26
        },
        {
          "output_type": "display_data",
          "data": {
            "text/plain": [
              "<Figure size 432x288 with 1 Axes>"
            ],
            "image/png": "[encoded data removed]"
          },
          "metadata": {
            "needs_background": "light"
          }
        }
      ]
    },
    {
      "cell_type": "code",
      "source": [
        "train_data.describe()\n",
        "frequences = train_data.groupby(['label']).size()\n",
        "frequences.plot(kind='bar')"
      ],
      "metadata": {
        "colab": {
          "base_uri": "https://localhost:8080/"
        },
        "id": "BSlmhtZEwWpz",
        "outputId": "a46658bb-2a4d-429d-e8f4-9ca66d41606b"
      },
      "execution_count": null,
      "outputs": [
        {
          "output_type": "execute_result",
          "data": {
            "text/plain": [
              "<AxesSubplot:xlabel='label'>"
            ]
          },
          "metadata": {},
          "execution_count": 27
        },
        {
          "output_type": "display_data",
          "data": {
            "text/plain": [
              "<Figure size 432x288 with 1 Axes>"
            ],
            "image/png": "[encoded data removed]"
          },
          "metadata": {
            "needs_background": "light"
          }
        }
      ]
    },
    {
      "cell_type": "markdown",
      "metadata": {
        "id": "DaHf1tnEasan"
      },
      "source": [
        "## Pre-trained Transformer Name"
      ]
    },
    {
      "cell_type": "markdown",
      "metadata": {
        "id": "aGkenQs4-wbE"
      },
      "source": [
        "This section is used to choose which pre-trained model to load from HuggingFace library."
      ]
    },
    {
      "cell_type": "code",
      "execution_count": null,
      "metadata": {
        "id": "NI6MGa2gazTY"
      },
      "outputs": [],
      "source": [
        "#pretrained_transformer_name = \"microsoft/mdeberta-v3-base\"\n",
        "#pretrained_transformer_name = \"microsoft/deberta-base\"\n",
        "#pretrained_transformer_name = \"albert-base-v2\"\n",
        "#pretrained_transformer_name = \"roberta-base\"\n",
        "#pretrained_transformer_name = \"roberta-large\"\n",
        "pretrained_transformer_name = \"DeepPavlov/rubert-base-cased\"\n",
        "\n",
        "checkpoint_name= pretrained_transformer_name.replace(\"/\",\"_\")"
      ]
    },
    {
      "cell_type": "markdown",
      "source": [
        "## NeptuneAI"
      ],
      "metadata": {
        "id": "CDuVG6sI1Zhb"
      }
    },
    {
      "cell_type": "code",
      "source": [
        "!pip install neptune-client torch torchvision"
      ],
      "metadata": {
        "id": "SMpuQQ0x1pDB",
        "colab": {
          "base_uri": "https://localhost:8080/"
        },
        "outputId": "48eff839-85b0-4401-d527-dc46906e5024"
      },
      "execution_count": null,
      "outputs": [
        {
          "output_type": "stream",
          "name": "stdout",
          "text": [
            "Looking in indexes: https://pypi.org/simple, https://us-python.pkg.dev/colab-wheels/public/simple/\n",
            "Requirement already satisfied: neptune-client in /usr/local/lib/python3.8/dist-packages (1.0.2)\n",
            "Requirement already satisfied: torch in /usr/local/lib/python3.8/dist-packages (1.13.1+cu116)\n",
            "Requirement already satisfied: torchvision in /usr/local/lib/python3.8/dist-packages (0.14.1+cu116)\n",
            "Requirement already satisfied: requests>=2.20.0 in /usr/local/lib/python3.8/dist-packages (from neptune-client) (2.25.1)\n",
            "Requirement already satisfied: websocket-client!=1.0.0,>=0.35.0 in /usr/local/lib/python3.8/dist-packages (from neptune-client) (1.5.1)\n",
            "Requirement already satisfied: GitPython>=2.0.8 in /usr/local/lib/python3.8/dist-packages (from neptune-client) (3.1.31)\n",
            "Requirement already satisfied: click>=7.0 in /usr/local/lib/python3.8/dist-packages (from neptune-client) (8.1.3)\n",
            "Requirement already satisfied: packaging in /usr/local/lib/python3.8/dist-packages (from neptune-client) (23.0)\n",
            "Requirement already satisfied: swagger-spec-validator>=2.7.4 in /usr/local/lib/python3.8/dist-packages (from neptune-client) (3.0.3)\n",
            "Requirement already satisfied: oauthlib>=2.1.0 in /usr/local/lib/python3.8/dist-packages (from neptune-client) (3.2.2)\n",
            "Requirement already satisfied: psutil in /usr/local/lib/python3.8/dist-packages (from neptune-client) (5.4.8)\n",
            "Requirement already satisfied: urllib3 in /usr/local/lib/python3.8/dist-packages (from neptune-client) (1.26.14)\n",
            "Requirement already satisfied: bravado<12.0.0,>=11.0.0 in /usr/local/lib/python3.8/dist-packages (from neptune-client) (11.0.3)\n",
            "Requirement already satisfied: six>=1.12.0 in /usr/local/lib/python3.8/dist-packages (from neptune-client) (1.15.0)\n",
            "Requirement already satisfied: PyJWT in /usr/local/lib/python3.8/dist-packages (from neptune-client) (2.6.0)\n",
            "Requirement already satisfied: pandas in /usr/local/lib/python3.8/dist-packages (from neptune-client) (1.3.5)\n",
            "Requirement already satisfied: Pillow>=1.1.6 in /usr/local/lib/python3.8/dist-packages (from neptune-client) (8.4.0)\n",
            "Requirement already satisfied: boto3>=1.16.0 in /usr/local/lib/python3.8/dist-packages (from neptune-client) (1.26.84)\n",
            "Requirement already satisfied: requests-oauthlib>=1.0.0 in /usr/local/lib/python3.8/dist-packages (from neptune-client) (1.3.1)\n",
            "Requirement already satisfied: future>=0.17.1 in /usr/local/lib/python3.8/dist-packages (from neptune-client) (0.18.3)\n",
            "Requirement already satisfied: typing-extensions in /usr/local/lib/python3.8/dist-packages (from torch) (4.5.0)\n",
            "Requirement already satisfied: numpy in /usr/local/lib/python3.8/dist-packages (from torchvision) (1.22.4)\n",
            "Requirement already satisfied: botocore<1.30.0,>=1.29.84 in /usr/local/lib/python3.8/dist-packages (from boto3>=1.16.0->neptune-client) (1.29.84)\n",
            "Requirement already satisfied: s3transfer<0.7.0,>=0.6.0 in /usr/local/lib/python3.8/dist-packages (from boto3>=1.16.0->neptune-client) (0.6.0)\n",
            "Requirement already satisfied: jmespath<2.0.0,>=0.7.1 in /usr/local/lib/python3.8/dist-packages (from boto3>=1.16.0->neptune-client) (1.0.1)\n",
            "Requirement already satisfied: pyyaml in /usr/local/lib/python3.8/dist-packages (from bravado<12.0.0,>=11.0.0->neptune-client) (6.0)\n",
            "Requirement already satisfied: python-dateutil in /usr/local/lib/python3.8/dist-packages (from bravado<12.0.0,>=11.0.0->neptune-client) (2.8.2)\n",
            "Requirement already satisfied: bravado-core>=5.16.1 in /usr/local/lib/python3.8/dist-packages (from bravado<12.0.0,>=11.0.0->neptune-client) (5.17.1)\n",
            "Requirement already satisfied: simplejson in /usr/local/lib/python3.8/dist-packages (from bravado<12.0.0,>=11.0.0->neptune-client) (3.18.3)\n",
            "Requirement already satisfied: monotonic in /usr/local/lib/python3.8/dist-packages (from bravado<12.0.0,>=11.0.0->neptune-client) (1.6)\n",
            "Requirement already satisfied: msgpack in /usr/local/lib/python3.8/dist-packages (from bravado<12.0.0,>=11.0.0->neptune-client) (1.0.4)\n",
            "Requirement already satisfied: gitdb<5,>=4.0.1 in /usr/local/lib/python3.8/dist-packages (from GitPython>=2.0.8->neptune-client) (4.0.10)\n",
            "Requirement already satisfied: certifi>=2017.4.17 in /usr/local/lib/python3.8/dist-packages (from requests>=2.20.0->neptune-client) (2022.12.7)\n",
            "Requirement already satisfied: chardet<5,>=3.0.2 in /usr/local/lib/python3.8/dist-packages (from requests>=2.20.0->neptune-client) (4.0.0)\n",
            "Requirement already satisfied: idna<3,>=2.5 in /usr/local/lib/python3.8/dist-packages (from requests>=2.20.0->neptune-client) (2.10)\n",
            "Requirement already satisfied: jsonschema in /usr/local/lib/python3.8/dist-packages (from swagger-spec-validator>=2.7.4->neptune-client) (4.3.3)\n",
            "Requirement already satisfied: pytz>=2017.3 in /usr/local/lib/python3.8/dist-packages (from pandas->neptune-client) (2022.7.1)\n",
            "Requirement already satisfied: jsonref in /usr/local/lib/python3.8/dist-packages (from bravado-core>=5.16.1->bravado<12.0.0,>=11.0.0->neptune-client) (1.1.0)\n",
            "Requirement already satisfied: smmap<6,>=3.0.1 in /usr/local/lib/python3.8/dist-packages (from gitdb<5,>=4.0.1->GitPython>=2.0.8->neptune-client) (5.0.0)\n",
            "Requirement already satisfied: attrs>=17.4.0 in /usr/local/lib/python3.8/dist-packages (from jsonschema->swagger-spec-validator>=2.7.4->neptune-client) (22.2.0)\n",
            "Requirement already satisfied: pyrsistent!=0.17.0,!=0.17.1,!=0.17.2,>=0.14.0 in /usr/local/lib/python3.8/dist-packages (from jsonschema->swagger-spec-validator>=2.7.4->neptune-client) (0.19.3)\n",
            "Requirement already satisfied: importlib-resources>=1.4.0 in /usr/local/lib/python3.8/dist-packages (from jsonschema->swagger-spec-validator>=2.7.4->neptune-client) (5.12.0)\n",
            "Requirement already satisfied: zipp>=3.1.0 in /usr/local/lib/python3.8/dist-packages (from importlib-resources>=1.4.0->jsonschema->swagger-spec-validator>=2.7.4->neptune-client) (3.15.0)\n",
            "Requirement already satisfied: isoduration in /usr/local/lib/python3.8/dist-packages (from jsonschema->swagger-spec-validator>=2.7.4->neptune-client) (20.11.0)\n",
            "Requirement already satisfied: uri-template in /usr/local/lib/python3.8/dist-packages (from jsonschema->swagger-spec-validator>=2.7.4->neptune-client) (1.2.0)\n",
            "Requirement already satisfied: fqdn in /usr/local/lib/python3.8/dist-packages (from jsonschema->swagger-spec-validator>=2.7.4->neptune-client) (1.5.1)\n",
            "Requirement already satisfied: jsonpointer>1.13 in /usr/local/lib/python3.8/dist-packages (from jsonschema->swagger-spec-validator>=2.7.4->neptune-client) (2.3)\n",
            "Requirement already satisfied: rfc3987 in /usr/local/lib/python3.8/dist-packages (from jsonschema->swagger-spec-validator>=2.7.4->neptune-client) (1.3.8)\n",
            "Requirement already satisfied: rfc3339-validator in /usr/local/lib/python3.8/dist-packages (from jsonschema->swagger-spec-validator>=2.7.4->neptune-client) (0.1.4)\n",
            "Requirement already satisfied: webcolors>=1.11 in /usr/local/lib/python3.8/dist-packages (from jsonschema->swagger-spec-validator>=2.7.4->neptune-client) (1.12)\n",
            "Requirement already satisfied: arrow>=0.15.0 in /usr/local/lib/python3.8/dist-packages (from isoduration->jsonschema->swagger-spec-validator>=2.7.4->neptune-client) (1.2.3)\n"
          ]
        }
      ]
    },
    {
      "cell_type": "code",
      "source": [
        "!pip install neptune-contrib"
      ],
      "metadata": {
        "id": "sUjCGNVLldjt",
        "colab": {
          "base_uri": "https://localhost:8080/"
        },
        "outputId": "41b4481f-4027-454c-b0b6-c1a0f8e7c80b"
      },
      "execution_count": null,
      "outputs": [
        {
          "output_type": "stream",
          "name": "stdout",
          "text": [
            "Looking in indexes: https://pypi.org/simple, https://us-python.pkg.dev/colab-wheels/public/simple/\n",
            "Requirement already satisfied: neptune-contrib in /usr/local/lib/python3.8/dist-packages (0.28.1)\n",
            "Requirement already satisfied: attrdict>=2.0.0 in /usr/local/lib/python3.8/dist-packages (from neptune-contrib) (2.0.1)\n",
            "Requirement already satisfied: joblib>=0.13 in /usr/local/lib/python3.8/dist-packages (from neptune-contrib) (1.2.0)\n",
            "Requirement already satisfied: Pillow>=6.2.0 in /usr/local/lib/python3.8/dist-packages (from neptune-contrib) (8.4.0)\n",
            "Requirement already satisfied: pandas in /usr/local/lib/python3.8/dist-packages (from neptune-contrib) (1.3.5)\n",
            "Requirement already satisfied: neptune-client>=0.4.126 in /usr/local/lib/python3.8/dist-packages (from neptune-contrib) (1.0.2)\n",
            "Requirement already satisfied: matplotlib in /usr/local/lib/python3.8/dist-packages (from neptune-contrib) (3.5.3)\n",
            "Requirement already satisfied: six in /usr/local/lib/python3.8/dist-packages (from attrdict>=2.0.0->neptune-contrib) (1.15.0)\n",
            "Requirement already satisfied: bravado<12.0.0,>=11.0.0 in /usr/local/lib/python3.8/dist-packages (from neptune-client>=0.4.126->neptune-contrib) (11.0.3)\n",
            "Requirement already satisfied: requests>=2.20.0 in /usr/local/lib/python3.8/dist-packages (from neptune-client>=0.4.126->neptune-contrib) (2.25.1)\n",
            "Requirement already satisfied: packaging in /usr/local/lib/python3.8/dist-packages (from neptune-client>=0.4.126->neptune-contrib) (23.0)\n",
            "Requirement already satisfied: urllib3 in /usr/local/lib/python3.8/dist-packages (from neptune-client>=0.4.126->neptune-contrib) (1.26.14)\n",
            "Requirement already satisfied: swagger-spec-validator>=2.7.4 in /usr/local/lib/python3.8/dist-packages (from neptune-client>=0.4.126->neptune-contrib) (3.0.3)\n",
            "Requirement already satisfied: requests-oauthlib>=1.0.0 in /usr/local/lib/python3.8/dist-packages (from neptune-client>=0.4.126->neptune-contrib) (1.3.1)\n",
            "Requirement already satisfied: click>=7.0 in /usr/local/lib/python3.8/dist-packages (from neptune-client>=0.4.126->neptune-contrib) (8.1.3)\n",
            "Requirement already satisfied: boto3>=1.16.0 in /usr/local/lib/python3.8/dist-packages (from neptune-client>=0.4.126->neptune-contrib) (1.26.84)\n",
            "Requirement already satisfied: psutil in /usr/local/lib/python3.8/dist-packages (from neptune-client>=0.4.126->neptune-contrib) (5.4.8)\n",
            "Requirement already satisfied: PyJWT in /usr/local/lib/python3.8/dist-packages (from neptune-client>=0.4.126->neptune-contrib) (2.6.0)\n",
            "Requirement already satisfied: websocket-client!=1.0.0,>=0.35.0 in /usr/local/lib/python3.8/dist-packages (from neptune-client>=0.4.126->neptune-contrib) (1.5.1)\n",
            "Requirement already satisfied: future>=0.17.1 in /usr/local/lib/python3.8/dist-packages (from neptune-client>=0.4.126->neptune-contrib) (0.18.3)\n",
            "Requirement already satisfied: oauthlib>=2.1.0 in /usr/local/lib/python3.8/dist-packages (from neptune-client>=0.4.126->neptune-contrib) (3.2.2)\n",
            "Requirement already satisfied: GitPython>=2.0.8 in /usr/local/lib/python3.8/dist-packages (from neptune-client>=0.4.126->neptune-contrib) (3.1.31)\n",
            "Requirement already satisfied: fonttools>=4.22.0 in /usr/local/lib/python3.8/dist-packages (from matplotlib->neptune-contrib) (4.38.0)\n",
            "Requirement already satisfied: kiwisolver>=1.0.1 in /usr/local/lib/python3.8/dist-packages (from matplotlib->neptune-contrib) (1.4.4)\n",
            "Requirement already satisfied: numpy>=1.17 in /usr/local/lib/python3.8/dist-packages (from matplotlib->neptune-contrib) (1.22.4)\n",
            "Requirement already satisfied: cycler>=0.10 in /usr/local/lib/python3.8/dist-packages (from matplotlib->neptune-contrib) (0.11.0)\n",
            "Requirement already satisfied: python-dateutil>=2.7 in /usr/local/lib/python3.8/dist-packages (from matplotlib->neptune-contrib) (2.8.2)\n",
            "Requirement already satisfied: pyparsing>=2.2.1 in /usr/local/lib/python3.8/dist-packages (from matplotlib->neptune-contrib) (3.0.9)\n",
            "Requirement already satisfied: pytz>=2017.3 in /usr/local/lib/python3.8/dist-packages (from pandas->neptune-contrib) (2022.7.1)\n",
            "Requirement already satisfied: s3transfer<0.7.0,>=0.6.0 in /usr/local/lib/python3.8/dist-packages (from boto3>=1.16.0->neptune-client>=0.4.126->neptune-contrib) (0.6.0)\n",
            "Requirement already satisfied: botocore<1.30.0,>=1.29.84 in /usr/local/lib/python3.8/dist-packages (from boto3>=1.16.0->neptune-client>=0.4.126->neptune-contrib) (1.29.84)\n",
            "Requirement already satisfied: jmespath<2.0.0,>=0.7.1 in /usr/local/lib/python3.8/dist-packages (from boto3>=1.16.0->neptune-client>=0.4.126->neptune-contrib) (1.0.1)\n",
            "Requirement already satisfied: typing-extensions in /usr/local/lib/python3.8/dist-packages (from bravado<12.0.0,>=11.0.0->neptune-client>=0.4.126->neptune-contrib) (4.5.0)\n",
            "Requirement already satisfied: pyyaml in /usr/local/lib/python3.8/dist-packages (from bravado<12.0.0,>=11.0.0->neptune-client>=0.4.126->neptune-contrib) (6.0)\n",
            "Requirement already satisfied: msgpack in /usr/local/lib/python3.8/dist-packages (from bravado<12.0.0,>=11.0.0->neptune-client>=0.4.126->neptune-contrib) (1.0.4)\n",
            "Requirement already satisfied: monotonic in /usr/local/lib/python3.8/dist-packages (from bravado<12.0.0,>=11.0.0->neptune-client>=0.4.126->neptune-contrib) (1.6)\n",
            "Requirement already satisfied: bravado-core>=5.16.1 in /usr/local/lib/python3.8/dist-packages (from bravado<12.0.0,>=11.0.0->neptune-client>=0.4.126->neptune-contrib) (5.17.1)\n",
            "Requirement already satisfied: simplejson in /usr/local/lib/python3.8/dist-packages (from bravado<12.0.0,>=11.0.0->neptune-client>=0.4.126->neptune-contrib) (3.18.3)\n",
            "Requirement already satisfied: gitdb<5,>=4.0.1 in /usr/local/lib/python3.8/dist-packages (from GitPython>=2.0.8->neptune-client>=0.4.126->neptune-contrib) (4.0.10)\n",
            "Requirement already satisfied: idna<3,>=2.5 in /usr/local/lib/python3.8/dist-packages (from requests>=2.20.0->neptune-client>=0.4.126->neptune-contrib) (2.10)\n",
            "Requirement already satisfied: certifi>=2017.4.17 in /usr/local/lib/python3.8/dist-packages (from requests>=2.20.0->neptune-client>=0.4.126->neptune-contrib) (2022.12.7)\n",
            "Requirement already satisfied: chardet<5,>=3.0.2 in /usr/local/lib/python3.8/dist-packages (from requests>=2.20.0->neptune-client>=0.4.126->neptune-contrib) (4.0.0)\n",
            "Requirement already satisfied: jsonschema in /usr/local/lib/python3.8/dist-packages (from swagger-spec-validator>=2.7.4->neptune-client>=0.4.126->neptune-contrib) (4.3.3)\n",
            "Requirement already satisfied: jsonref in /usr/local/lib/python3.8/dist-packages (from bravado-core>=5.16.1->bravado<12.0.0,>=11.0.0->neptune-client>=0.4.126->neptune-contrib) (1.1.0)\n",
            "Requirement already satisfied: smmap<6,>=3.0.1 in /usr/local/lib/python3.8/dist-packages (from gitdb<5,>=4.0.1->GitPython>=2.0.8->neptune-client>=0.4.126->neptune-contrib) (5.0.0)\n",
            "Requirement already satisfied: attrs>=17.4.0 in /usr/local/lib/python3.8/dist-packages (from jsonschema->swagger-spec-validator>=2.7.4->neptune-client>=0.4.126->neptune-contrib) (22.2.0)\n",
            "Requirement already satisfied: pyrsistent!=0.17.0,!=0.17.1,!=0.17.2,>=0.14.0 in /usr/local/lib/python3.8/dist-packages (from jsonschema->swagger-spec-validator>=2.7.4->neptune-client>=0.4.126->neptune-contrib) (0.19.3)\n",
            "Requirement already satisfied: importlib-resources>=1.4.0 in /usr/local/lib/python3.8/dist-packages (from jsonschema->swagger-spec-validator>=2.7.4->neptune-client>=0.4.126->neptune-contrib) (5.12.0)\n",
            "Requirement already satisfied: zipp>=3.1.0 in /usr/local/lib/python3.8/dist-packages (from importlib-resources>=1.4.0->jsonschema->swagger-spec-validator>=2.7.4->neptune-client>=0.4.126->neptune-contrib) (3.15.0)\n",
            "Requirement already satisfied: isoduration in /usr/local/lib/python3.8/dist-packages (from jsonschema->swagger-spec-validator>=2.7.4->neptune-client>=0.4.126->neptune-contrib) (20.11.0)\n",
            "Requirement already satisfied: fqdn in /usr/local/lib/python3.8/dist-packages (from jsonschema->swagger-spec-validator>=2.7.4->neptune-client>=0.4.126->neptune-contrib) (1.5.1)\n",
            "Requirement already satisfied: rfc3339-validator in /usr/local/lib/python3.8/dist-packages (from jsonschema->swagger-spec-validator>=2.7.4->neptune-client>=0.4.126->neptune-contrib) (0.1.4)\n",
            "Requirement already satisfied: webcolors>=1.11 in /usr/local/lib/python3.8/dist-packages (from jsonschema->swagger-spec-validator>=2.7.4->neptune-client>=0.4.126->neptune-contrib) (1.12)\n",
            "Requirement already satisfied: jsonpointer>1.13 in /usr/local/lib/python3.8/dist-packages (from jsonschema->swagger-spec-validator>=2.7.4->neptune-client>=0.4.126->neptune-contrib) (2.3)\n",
            "Requirement already satisfied: uri-template in /usr/local/lib/python3.8/dist-packages (from jsonschema->swagger-spec-validator>=2.7.4->neptune-client>=0.4.126->neptune-contrib) (1.2.0)\n",
            "Requirement already satisfied: rfc3987 in /usr/local/lib/python3.8/dist-packages (from jsonschema->swagger-spec-validator>=2.7.4->neptune-client>=0.4.126->neptune-contrib) (1.3.8)\n",
            "Requirement already satisfied: arrow>=0.15.0 in /usr/local/lib/python3.8/dist-packages (from isoduration->jsonschema->swagger-spec-validator>=2.7.4->neptune-client>=0.4.126->neptune-contrib) (1.2.3)\n"
          ]
        }
      ]
    },
    {
      "cell_type": "code",
      "source": [
        "import neptune.new as neptune\n",
        "from sklearn.metrics import accuracy_score, precision_score, recall_score, precision_recall_curve"
      ],
      "metadata": {
        "id": "nNq0h2oQlm1U"
      },
      "execution_count": null,
      "outputs": []
    },
    {
      "cell_type": "code",
      "source": [
        "run = neptune.init_run(\n",
        "    project=\"yuliana.poliakova/ba-thesis-experiments\",\n",
        "    api_token=\"eyJhcGlfYWRkcmVzcyI6Imh0dHBzOi8vYXBwLm5lcHR1bmUuYWkiLCJhcGlfdXJsIjoiaHR0cHM6Ly9hcHAubmVwdHVuZS5haSIsImFwaV9rZXkiOiIyZGY1OTMzMS05NjBkLTQzYmItODMwMy1mMTJkODllNjQzZTYifQ==\",\n",
        ")\n",
        "\n",
        "params = {\n",
        "    \"bs\": 16,\n",
        "    \"num_epoch\": 1,\n",
        "    \"n_classes\": labels_count,\n",
        "    \"learning_rate\": 2e-5,\n",
        "    \"adam_epsilon\" : 1e-8,\n",
        "    \"model_name\": pretrained_transformer_name\n",
        "}\n",
        "run[\"parameters\"] = params\n",
        "\n",
        "#run = neptune.init_run(source_files=[\"BA_Project.ipynb\"]) \n"
      ],
      "metadata": {
        "colab": {
          "base_uri": "https://localhost:8080/"
        },
        "id": "AKD3RELt1kBn",
        "outputId": "25cf91c5-71ed-40fa-c1bb-68d3b8b03ed8"
      },
      "execution_count": null,
      "outputs": [
        {
          "output_type": "stream",
          "name": "stderr",
          "text": [
            "<ipython-input-32-2d356921b0b3>:1: NeptuneWarning: To avoid unintended consumption of logging hours during interactive sessions, the following monitoring options are disabled unless set to 'True' when initializing the run: 'capture_stdout', 'capture_stderr', and 'capture_hardware_metrics'.\n",
            "  run = neptune.init_run(\n"
          ]
        },
        {
          "output_type": "stream",
          "name": "stdout",
          "text": [
            "https://app.neptune.ai/yuliana.poliakova/ba-thesis-experiments/e/BAT-27\n"
          ]
        }
      ]
    },
    {
      "cell_type": "code",
      "source": [
        "class NeptuneMetrics(Callback):\n",
        "    def __init__(self, neptune_experiment, validation, current_fold):\n",
        "        super(NeptuneMetrics, self).__init__()\n",
        "        self.exp = neptune_experiment\n",
        "        self.validation = validation\n",
        "        self.curFold = current_fold\n",
        "\n",
        "    def on_train_begin(self, logs={}):\n",
        "        self.val_f1s = []\n",
        "        self.val_recalls = []\n",
        "        self.val_precisions = []\n",
        "\n",
        "    def on_epoch_end(self, epoch, logs={}):\n",
        "        val_targ = self.validation[1]\n",
        "        val_predict = (np.asarray(self.model.predict(self.validation[0]))).round()\n",
        "\n",
        "        val_f1 = round(f1_score(val_targ, val_predict), 4)\n",
        "        val_recall = round(recall_score(val_targ, val_predict), 4)\n",
        "        val_precision = round(precision_score(val_targ, val_predict), 4)\n",
        "\n",
        "        self.val_f1s.append(val_f1)\n",
        "        self.val_recalls.append(val_recall)\n",
        "        self.val_precisions.append(val_precision)\n",
        "\n",
        "        print(f' — val_f1: {val_f1} — val_precision: {val_precision}, — val_recall: {val_recall}')\n",
        "\n",
        "        ### Send the performance metrics to Neptune for tracking (new version) ###\n",
        "\t    self.exp['Epoch End Loss'].log(logs['loss'])\n",
        "        self.exp['Epoch End F1-score'].log(val_f1)\n",
        "        self.exp['Epoch End Precision'].log(val_precision)\n",
        "        self.exp['Epoch End Recall'].log(val_recall)\n",
        "\n",
        "        if self.curFold == 4:\n",
        "            ### Log Epoch End metrics values for each step in the last CV fold ###\n",
        "            msg = f' End of epoch {epoch} val_f1: {val_f1} — val_precision: {val_precision}, — val_recall: {val_recall}'\n",
        "            ### Neptune new version\n",
        "            self.exp[f'Epoch End Metrics (each step) for fold {self.curFold}'] = msg"
      ],
      "metadata": {
        "colab": {
          "base_uri": "https://localhost:8080/",
          "height": 130
        },
        "id": "6KlEZiX7sipN",
        "outputId": "792ee74b-f91a-4a82-b3aa-c11cbb05d6e7"
      },
      "execution_count": null,
      "outputs": [
        {
          "output_type": "error",
          "ename": "TabError",
          "evalue": "ignored",
          "traceback": [
            "\u001b[0;36m  File \u001b[0;32m\"<ipython-input-29-df78bf0bc610>\"\u001b[0;36m, line \u001b[0;32m28\u001b[0m\n\u001b[0;31m    self.exp['Epoch End Loss'].log(logs['loss'])\u001b[0m\n\u001b[0m                                                ^\u001b[0m\n\u001b[0;31mTabError\u001b[0m\u001b[0;31m:\u001b[0m inconsistent use of tabs and spaces in indentation\n"
          ]
        }
      ]
    },
    {
      "cell_type": "markdown",
      "metadata": {
        "id": "AoE1k2UdQidC"
      },
      "source": [
        "## Define LightningDataModule"
      ]
    },
    {
      "cell_type": "code",
      "execution_count": null,
      "metadata": {
        "id": "jsHuc_ZPWDGQ"
      },
      "outputs": [],
      "source": [
        "class PTCDataModule(LightningDataModule):\n",
        "    def __init__(\n",
        "        self,\n",
        "        train_data,\n",
        "        val_data,\n",
        "        model_name: str = \"microsoft/mdeberta-v3-base\",\n",
        "        batch_size: int = 32,\n",
        "        **kwargs,\n",
        "    ):\n",
        "        super().__init__()\n",
        "        self.train_data = train_data\n",
        "        self.val_data = val_data\n",
        "        self.batch_size = batch_size\n",
        "        self.num_labels = labels_count\n",
        "        self.tokenizer = AutoTokenizer.from_pretrained(\n",
        "            model_name, do_lower_case=False)\n",
        "        self.le = preprocessing.LabelEncoder()\n",
        "\n",
        "    def setup(self, stage: str = None):\n",
        "        self.X_train = self.train_data.text.values\n",
        "        self.le.fit(self.train_data.label.values)\n",
        "        y_train = self.le.transform(self.train_data.label.values)\n",
        "\n",
        "        self.X_val = self.val_data.text.values\n",
        "        y_val = self.le.transform(self.val_data.label.values)\n",
        "\n",
        "        #self.max_length = self.maxLen()\n",
        "        self.max_length = 512\n",
        "\n",
        "        self.X_train_enc, self.X_train_attention = self.preprocessing(\n",
        "            self.X_train)\n",
        "        self.X_val_enc, self.X_val_attention = self.preprocessing(\n",
        "            self.X_val)\n",
        "\n",
        "        self.y_train = torch.tensor(y_train)\n",
        "        self.y_val = torch.tensor(y_val)\n",
        "\n",
        "    def prepare_data(self):\n",
        "        return\n",
        "\n",
        "    def train_dataloader(self):\n",
        "        data = PTCDataset(self.X_train_enc,\n",
        "                          self.X_train_attention, self.y_train)\n",
        "        train_dataloader = DataLoader(data, batch_size=self.batch_size, num_workers = 4)\n",
        "        return train_dataloader\n",
        "\n",
        "    def val_dataloader(self):\n",
        "        data = PTCDataset(self.X_val_enc, self.X_val_attention, self.y_val)\n",
        "        val_dataloader = DataLoader(data, batch_size=self.batch_size, num_workers = 4)\n",
        "        return val_dataloader\n",
        "\n",
        "    def preprocessing(self, data):\n",
        "        input_ids = []\n",
        "        attention_masks = []\n",
        "\n",
        "        for sent in data:\n",
        "            encoded_sent = self.tokenizer.encode_plus(\n",
        "                text=sent,\n",
        "                add_special_tokens=True,\n",
        "                max_length=self.max_length,\n",
        "                pad_to_max_length=True,\n",
        "                truncation=True,\n",
        "                return_attention_mask=True\n",
        "            )\n",
        "\n",
        "            input_ids.append(encoded_sent.get('input_ids'))\n",
        "            attention_masks.append(encoded_sent.get('attention_mask'))\n",
        "\n",
        "        input_ids = torch.tensor(input_ids)\n",
        "        attention_masks = torch.tensor(attention_masks)\n",
        "\n",
        "        return input_ids, attention_masks\n",
        "\n",
        "    def maxLen(self):\n",
        "        X_all = np.concatenate([self.X_train, self.X_val])\n",
        "\n",
        "        encoded_X = [\n",
        "            self.tokenizer.encode(\n",
        "                sent,\n",
        "                add_special_tokens=True\n",
        "            ) for sent in X_all\n",
        "        ]\n",
        "\n",
        "        max_len = max([len(sent) for sent in encoded_X])\n",
        "        return max_len\n"
      ]
    },
    {
      "cell_type": "markdown",
      "metadata": {
        "id": "uyTrkHHdjaaE"
      },
      "source": [
        "TODO: Here is where max length should be accepted"
      ]
    },
    {
      "cell_type": "markdown",
      "source": [
        "##Evaluation\n"
      ],
      "metadata": {
        "id": "5KtpdVcdotpW"
      }
    },
    {
      "cell_type": "markdown",
      "metadata": {
        "id": "_0gCSjGGj94M"
      },
      "source": [
        "Class that implements the callback that prints the metrics that are used to evaluate a model."
      ]
    },
    {
      "cell_type": "code",
      "execution_count": null,
      "metadata": {
        "id": "cGOaQaU_CcqA"
      },
      "outputs": [],
      "source": [
        "class PTCEvaluateCallback(Callback):\n",
        "    def on_fit_end(self, trainer, model):\n",
        "        print(\"Fit end: Evaluation....\")\n",
        "\n",
        "        all_predictions = model.predictions.detach().cpu().numpy().astype(int)\n",
        "        all_labels = model.labels.detach().cpu().numpy().astype(int)\n",
        "\n",
        "        classes = model.le.classes_\n",
        "\n",
        "        #neptune.log_image('predictions', all_predictions)\n",
        "        #neptune.log_image('labels', all_labels)\n",
        "\n",
        "        run[\"F1-micro\"].append(f1_score(all_labels,\n",
        "              all_predictions, average='micro', zero_division=1))\n",
        "        run[\"F1-macro\"].append(f1_score(all_labels,\n",
        "              all_predictions, average='macro', zero_division=1))\n",
        "\n",
        "        print(\"F1-micro: {}\".format(f1_score(all_labels,\n",
        "              all_predictions, average='micro', zero_division=1)))\n",
        "        print(\"F1-macro: {}\".format(f1_score(all_labels,\n",
        "              all_predictions, average='macro', zero_division=1)))\n",
        "\n",
        "        print(classification_report(all_labels, all_predictions, labels=[\n",
        "              i for i in range(model.num_classes)], target_names=classes))\n",
        "\n",
        "        #conf_mat = confusion_matrix(all_labels, all_predictions)\n",
        "        #plot_confusion_matrix(conf_mat, classes=classes)\n",
        "\n",
        "        return\n"
      ]
    },
    {
      "cell_type": "code",
      "execution_count": null,
      "metadata": {
        "id": "KICfIRXtTPnW"
      },
      "outputs": [],
      "source": [
        "class CLSExtractor(nn.Module):\n",
        "    def __init__(self, name):\n",
        "        super(CLSExtractor, self).__init__()\n",
        "        self.isCLSLast = (True if name == 'xlnet-base-cased' else False)\n",
        "\n",
        "    def forward(self, x):\n",
        "        if(self.isCLSLast):\n",
        "            return x[0][:, -1, :]\n",
        "        else:\n",
        "            return x[0][:, 0, :]"
      ]
    },
    {
      "cell_type": "code",
      "execution_count": null,
      "metadata": {
        "id": "TnjY8H1AlvBi"
      },
      "outputs": [],
      "source": [
        "class PTCTransformer(LightningModule):\n",
        "    def __init__(\n",
        "        self,\n",
        "        le,\n",
        "        y_train=None,\n",
        "        num_classes: int = labels_count,\n",
        "        model_name_or_path: str = \"microsoft/mdeberta-v3-base\",\n",
        "        learning_rate: float = 2e-5,\n",
        "        adam_epsilon: float = 1e-8,\n",
        "        batch_size: int = 32,\n",
        "        threshold=0.5,\n",
        "        **kwargs,\n",
        "    ):\n",
        "        super().__init__()\n",
        "\n",
        "        self.num_classes = num_classes\n",
        "\n",
        "        self.learning_rate = learning_rate\n",
        "        self.adam_epsilon = adam_epsilon\n",
        "\n",
        "        self.save_hyperparameters()\n",
        "\n",
        "        self.le = le\n",
        "\n",
        "        self.loss = nn.CrossEntropyLoss()\n",
        "        #self.loss = FocalLoss()\n",
        "        #self.loss = WeightedCELoss(y_train)\n",
        "        self.threshold = threshold\n",
        "        self.acc = torchmetrics.Accuracy(task='multiclass', num_classes=19)\n",
        "\n",
        "        self.labels = torch.Tensor(device=self.device)\n",
        "        self.predictions = torch.Tensor(device=self.device)\n",
        "\n",
        "        D_in, H, D_out = 768, 96, num_classes\n",
        "        #self.transformer = AutoModel.from_pretrained(model_name_or_path)\n",
        "        # Load 8-bit with threshold \n",
        "        config = AutoConfig.from_pretrained(model_name_or_path)\n",
        "\n",
        "        with init_empty_weights():\n",
        "            model = AutoModelForCausalLM.from_config(config)\n",
        "\n",
        "        quantization_config = BitsAndBytesConfig(\n",
        "            llm_int8_threshold=10.0,\n",
        "        )\n",
        "\n",
        "        self.transformer = AutoModelForCausalLM.from_pretrained(\n",
        "            model_name_or_path,\n",
        "            device_map=\"auto\",\n",
        "            quantization_config=quantization_config,\n",
        "        )\n",
        "\n",
        "        self.extractor = CLSExtractor(model_name_or_path)\n",
        "\n",
        "        self.classifier = nn.Sequential(\n",
        "            nn.Linear(D_in, H),\n",
        "            nn.LeakyReLU(0.01),\n",
        "            nn.Dropout(0.1),\n",
        "            nn.Linear(H, D_out)\n",
        "        )\n",
        "\n",
        "    def forward(self, **inputs):\n",
        "        plm_output = self.transformer(input_ids=inputs[\"input_ids\"],\n",
        "                                      attention_mask=inputs[\"attention_mask\"])\n",
        "\n",
        "        last_hidden_state_cls = self.extractor(plm_output)\n",
        "\n",
        "        logits = self.classifier(last_hidden_state_cls)\n",
        "        \n",
        "        # Try to add preictions threshold here\n",
        "        probs = torch.sigmoid(logits)\n",
        "        predictions = (probs >= self.threshold).long().float()\n",
        "\n",
        "        return logits\n",
        "\n",
        "    def training_step(self, batch, batch_idx):\n",
        "        labels = batch[\"labels\"]\n",
        "        logits = self(**batch)\n",
        "        loss = self.loss(logits, labels)\n",
        "        predictions = torch.argmax(torch.softmax(logits, dim=1), axis=1)\n",
        "        acc = self.acc(predictions, labels)\n",
        "        return {\"loss\": loss, \"accuracy\": acc}\n",
        "\n",
        "    def validation_step(self, batch, batch_idx, dataloader_idx=0):\n",
        "        logits = self(**batch)\n",
        "        labels = batch[\"labels\"]\n",
        "        val_loss = self.loss(logits, labels)\n",
        "        predictions = torch.argmax(logits, axis=1)\n",
        "        acc = self.acc(predictions, labels)\n",
        "\n",
        "        return {\"loss\": val_loss, \"accuracy\": acc, \n",
        "                \"predictions\": predictions, \"labels\": labels}\n",
        "\n",
        "    def validation_step_end(self, outputs):\n",
        "        return outputs\n",
        "\n",
        "    def validation_epoch_end(self, outputs):\n",
        "        if(self.current_epoch == self.trainer.max_epochs - 1):\n",
        "            labels = [x[\"labels\"] for x in outputs]\n",
        "            self.labels = torch.cat(labels, dim=0)\n",
        "\n",
        "            predictions = [x[\"predictions\"] for x in outputs]\n",
        "            self.predictions = torch.cat(predictions, dim=0)\n",
        "\n",
        "    def configure_optimizers(self):\n",
        "        optimizer = AdamW(self.parameters(),\n",
        "                          lr=self.learning_rate, eps=self.adam_epsilon)\n",
        "        return optimizer\n"
      ]
    },
    {
      "cell_type": "markdown",
      "source": [
        "\n",
        "##Training \n"
      ],
      "metadata": {
        "id": "OdYj3gWKlvAr"
      }
    },
    {
      "cell_type": "code",
      "source": [
        "os.environ[\"TOKENIZERS_PARALLELISM\"] = \"false\""
      ],
      "metadata": {
        "id": "eIDQXMmacuc6"
      },
      "execution_count": null,
      "outputs": []
    },
    {
      "cell_type": "code",
      "source": [
        "torch.set_float32_matmul_precision('medium')"
      ],
      "metadata": {
        "id": "xL80TToVhbaA"
      },
      "execution_count": null,
      "outputs": []
    },
    {
      "cell_type": "code",
      "execution_count": null,
      "metadata": {
        "colab": {
          "base_uri": "https://localhost:8080/"
        },
        "id": "_pDAPOutgYbf",
        "outputId": "7df09f1b-5439-4435-d594-3c349e403b32"
      },
      "outputs": [
        {
          "output_type": "stream",
          "name": "stderr",
          "text": [
            "INFO:lightning_fabric.utilities.seed:Global seed set to 21\n",
            "/usr/local/lib/python3.8/dist-packages/transformers/tokenization_utils_base.py:2346: FutureWarning: The `pad_to_max_length` argument is deprecated and will be removed in a future version, use `padding=True` or `padding='longest'` to pad to the longest sequence in the batch, or use `padding='max_length'` to pad to a max length. In this case, you can give a specific length with `max_length` (e.g. `max_length=45`) or leave max_length to None to pad to the maximal input size of the model (e.g. 512 for Bert).\n",
            "  warnings.warn(\n"
          ]
        }
      ],
      "source": [
        "seed_everything(21)\n",
        "dm = PTCDataModule(train_data, val_data,\n",
        "                   model_name=pretrained_transformer_name, batch_size=16)\n",
        "dm.setup()"
      ]
    },
    {
      "cell_type": "code",
      "execution_count": null,
      "metadata": {
        "colab": {
          "base_uri": "https://localhost:8080/"
        },
        "id": "Sfu_Lr1ClvBi",
        "outputId": "7e436cca-9d54-4ed2-fcb0-7476971af40a"
      },
      "outputs": [
        {
          "output_type": "stream",
          "name": "stderr",
          "text": [
            "If you want to use `BertLMHeadModel` as a standalone, add `is_decoder=True.`\n"
          ]
        },
        {
          "output_type": "error",
          "ename": "NameError",
          "evalue": "ignored",
          "traceback": [
            "\u001b[0;31m---------------------------------------------------------------------------\u001b[0m",
            "\u001b[0;31mNameError\u001b[0m                                 Traceback (most recent call last)",
            "\u001b[0;32m<ipython-input-62-47aa6f0cdbaf>\u001b[0m in \u001b[0;36m<module>\u001b[0;34m\u001b[0m\n\u001b[0;32m----> 1\u001b[0;31m model = PTCTransformer(\n\u001b[0m\u001b[1;32m      2\u001b[0m     dm.le, dm.y_train, model_name_or_path=pretrained_transformer_name)\n",
            "\u001b[0;32m<ipython-input-61-f24757976abb>\u001b[0m in \u001b[0;36m__init__\u001b[0;34m(self, le, y_train, num_classes, model_name_or_path, learning_rate, adam_epsilon, batch_size, threshold, **kwargs)\u001b[0m\n\u001b[1;32m     44\u001b[0m         )\n\u001b[1;32m     45\u001b[0m \u001b[0;34m\u001b[0m\u001b[0m\n\u001b[0;32m---> 46\u001b[0;31m         self.transformer = AutoModelForCausalLM.from_pretrained(\n\u001b[0m\u001b[1;32m     47\u001b[0m             \u001b[0mmodel_name_or_path\u001b[0m\u001b[0;34m,\u001b[0m\u001b[0;34m\u001b[0m\u001b[0;34m\u001b[0m\u001b[0m\n\u001b[1;32m     48\u001b[0m             \u001b[0mdevice_map\u001b[0m\u001b[0;34m=\u001b[0m\u001b[0;34m\"auto\"\u001b[0m\u001b[0;34m,\u001b[0m\u001b[0;34m\u001b[0m\u001b[0;34m\u001b[0m\u001b[0m\n",
            "\u001b[0;32m/usr/local/lib/python3.8/dist-packages/transformers/models/auto/auto_factory.py\u001b[0m in \u001b[0;36mfrom_pretrained\u001b[0;34m(cls, pretrained_model_name_or_path, *model_args, **kwargs)\u001b[0m\n\u001b[1;32m    469\u001b[0m         \u001b[0;32melif\u001b[0m \u001b[0mtype\u001b[0m\u001b[0;34m(\u001b[0m\u001b[0mconfig\u001b[0m\u001b[0;34m)\u001b[0m \u001b[0;32min\u001b[0m \u001b[0mcls\u001b[0m\u001b[0;34m.\u001b[0m\u001b[0m_model_mapping\u001b[0m\u001b[0;34m.\u001b[0m\u001b[0mkeys\u001b[0m\u001b[0;34m(\u001b[0m\u001b[0;34m)\u001b[0m\u001b[0;34m:\u001b[0m\u001b[0;34m\u001b[0m\u001b[0;34m\u001b[0m\u001b[0m\n\u001b[1;32m    470\u001b[0m             \u001b[0mmodel_class\u001b[0m \u001b[0;34m=\u001b[0m \u001b[0m_get_model_class\u001b[0m\u001b[0;34m(\u001b[0m\u001b[0mconfig\u001b[0m\u001b[0;34m,\u001b[0m \u001b[0mcls\u001b[0m\u001b[0;34m.\u001b[0m\u001b[0m_model_mapping\u001b[0m\u001b[0;34m)\u001b[0m\u001b[0;34m\u001b[0m\u001b[0;34m\u001b[0m\u001b[0m\n\u001b[0;32m--> 471\u001b[0;31m             return model_class.from_pretrained(\n\u001b[0m\u001b[1;32m    472\u001b[0m                 \u001b[0mpretrained_model_name_or_path\u001b[0m\u001b[0;34m,\u001b[0m \u001b[0;34m*\u001b[0m\u001b[0mmodel_args\u001b[0m\u001b[0;34m,\u001b[0m \u001b[0mconfig\u001b[0m\u001b[0;34m=\u001b[0m\u001b[0mconfig\u001b[0m\u001b[0;34m,\u001b[0m \u001b[0;34m**\u001b[0m\u001b[0mhub_kwargs\u001b[0m\u001b[0;34m,\u001b[0m \u001b[0;34m**\u001b[0m\u001b[0mkwargs\u001b[0m\u001b[0;34m\u001b[0m\u001b[0;34m\u001b[0m\u001b[0m\n\u001b[1;32m    473\u001b[0m             )\n",
            "\u001b[0;32m/usr/local/lib/python3.8/dist-packages/transformers/modeling_utils.py\u001b[0m in \u001b[0;36mfrom_pretrained\u001b[0;34m(cls, pretrained_model_name_or_path, *model_args, **kwargs)\u001b[0m\n\u001b[1;32m   2488\u001b[0m             \u001b[0minit_contexts\u001b[0m \u001b[0;34m=\u001b[0m \u001b[0;34m[\u001b[0m\u001b[0mdeepspeed\u001b[0m\u001b[0;34m.\u001b[0m\u001b[0mzero\u001b[0m\u001b[0;34m.\u001b[0m\u001b[0mInit\u001b[0m\u001b[0;34m(\u001b[0m\u001b[0mconfig_dict_or_path\u001b[0m\u001b[0;34m=\u001b[0m\u001b[0mdeepspeed_config\u001b[0m\u001b[0;34m(\u001b[0m\u001b[0;34m)\u001b[0m\u001b[0;34m)\u001b[0m\u001b[0;34m]\u001b[0m \u001b[0;34m+\u001b[0m \u001b[0minit_contexts\u001b[0m\u001b[0;34m\u001b[0m\u001b[0;34m\u001b[0m\u001b[0m\n\u001b[1;32m   2489\u001b[0m         \u001b[0;32melif\u001b[0m \u001b[0mload_in_8bit\u001b[0m \u001b[0;32mor\u001b[0m \u001b[0mlow_cpu_mem_usage\u001b[0m\u001b[0;34m:\u001b[0m\u001b[0;34m\u001b[0m\u001b[0;34m\u001b[0m\u001b[0m\n\u001b[0;32m-> 2490\u001b[0;31m             \u001b[0minit_contexts\u001b[0m\u001b[0;34m.\u001b[0m\u001b[0mappend\u001b[0m\u001b[0;34m(\u001b[0m\u001b[0minit_empty_weights\u001b[0m\u001b[0;34m(\u001b[0m\u001b[0;34m)\u001b[0m\u001b[0;34m)\u001b[0m\u001b[0;34m\u001b[0m\u001b[0;34m\u001b[0m\u001b[0m\n\u001b[0m\u001b[1;32m   2491\u001b[0m \u001b[0;34m\u001b[0m\u001b[0m\n\u001b[1;32m   2492\u001b[0m         \u001b[0;32mwith\u001b[0m \u001b[0mContextManagers\u001b[0m\u001b[0;34m(\u001b[0m\u001b[0minit_contexts\u001b[0m\u001b[0;34m)\u001b[0m\u001b[0;34m:\u001b[0m\u001b[0;34m\u001b[0m\u001b[0;34m\u001b[0m\u001b[0m\n",
            "\u001b[0;31mNameError\u001b[0m: name 'init_empty_weights' is not defined"
          ]
        }
      ],
      "source": [
        "model = PTCTransformer(\n",
        "    dm.le, dm.y_train, model_name_or_path=pretrained_transformer_name)"
      ]
    },
    {
      "cell_type": "code",
      "execution_count": null,
      "metadata": {
        "colab": {
          "base_uri": "https://localhost:8080/"
        },
        "id": "MjnWC3FylvBj",
        "outputId": "fa7494f1-14aa-43cd-db1d-9b0e110c6d46"
      },
      "outputs": [
        {
          "output_type": "stream",
          "name": "stderr",
          "text": [
            "/usr/local/lib/python3.8/dist-packages/pytorch_lightning/trainer/connectors/accelerator_connector.py:478: LightningDeprecationWarning: Setting `Trainer(gpus=1)` is deprecated in v1.7 and will be removed in v2.0. Please use `Trainer(accelerator='gpu', devices=1)` instead.\n",
            "  rank_zero_deprecation(\n",
            "INFO:pytorch_lightning.utilities.rank_zero:GPU available: True (cuda), used: True\n",
            "INFO:pytorch_lightning.utilities.rank_zero:TPU available: False, using: 0 TPU cores\n",
            "INFO:pytorch_lightning.utilities.rank_zero:IPU available: False, using: 0 IPUs\n",
            "INFO:pytorch_lightning.utilities.rank_zero:HPU available: False, using: 0 HPUs\n"
          ]
        }
      ],
      "source": [
        "trainer = Trainer(max_epochs=1, gpus=AVAIL_GPUS, logger=None, callbacks=[\n",
        "                  PTCEvaluateCallback()])  "
      ]
    },
    {
      "cell_type": "code",
      "source": [
        "CUDA_LAUNCH_BLOCKING=1"
      ],
      "metadata": {
        "id": "7C2c96wjwVCm"
      },
      "execution_count": null,
      "outputs": []
    },
    {
      "cell_type": "code",
      "execution_count": null,
      "metadata": {
        "colab": {
          "base_uri": "https://localhost:8080/",
          "height": 939,
          "referenced_widgets": [
            "758c5c4bb1cf4c2bb8cc713a12ddc119",
            "eacab28d4b1a4443bdfcfbc9583c7027",
            "158189aa3c234618a19bcbf00713b3c7",
            "4ffe7c67ff4544ff8a589a5818a27f0e",
            "d461d9c694d2478db04d41d5f506f0bc",
            "297019f52ee44626b603b059406dfab8",
            "c9884f3503214e7482d53c7920d4a589",
            "f269565ed63e4f7386ee87965898847d",
            "357634d08fac4240bb17d7f26e6fbd8b",
            "bf17adb1b61047449f70e019428e5175",
            "be0c128a8c18446e829b51fcfaab80aa"
          ]
        },
        "id": "1gCpf1kglvBj",
        "outputId": "a2e6db92-e3f4-4fde-b018-b48bc357b6a5"
      },
      "outputs": [
        {
          "output_type": "stream",
          "name": "stderr",
          "text": [
            "/usr/local/lib/python3.8/dist-packages/transformers/tokenization_utils_base.py:2339: FutureWarning: The `pad_to_max_length` argument is deprecated and will be removed in a future version, use `padding=True` or `padding='longest'` to pad to the longest sequence in the batch, or use `padding='max_length'` to pad to a max length. In this case, you can give a specific length with `max_length` (e.g. `max_length=45`) or leave max_length to None to pad to the maximal input size of the model (e.g. 512 for Bert).\n",
            "  warnings.warn(\n",
            "/usr/local/lib/python3.8/dist-packages/pytorch_lightning/callbacks/model_checkpoint.py:613: UserWarning: Checkpoint directory /content/checkpoints exists and is not empty.\n",
            "  rank_zero_warn(f\"Checkpoint directory {dirpath} exists and is not empty.\")\n",
            "INFO:pytorch_lightning.accelerators.cuda:LOCAL_RANK: 0 - CUDA_VISIBLE_DEVICES: [0]\n",
            "/usr/local/lib/python3.8/dist-packages/transformers/optimization.py:306: FutureWarning: This implementation of AdamW is deprecated and will be removed in a future version. Use the PyTorch implementation torch.optim.AdamW instead, or set `no_deprecation_warning=True` to disable this warning\n",
            "  warnings.warn(\n",
            "INFO:pytorch_lightning.callbacks.model_summary:\n",
            "  | Name        | Type               | Params\n",
            "---------------------------------------------------\n",
            "0 | loss        | CrossEntropyLoss   | 0     \n",
            "1 | acc         | MulticlassAccuracy | 0     \n",
            "2 | transformer | BertModel          | 177 M \n",
            "3 | extractor   | CLSExtractor       | 0     \n",
            "4 | classifier  | Sequential         | 75.3 K\n",
            "---------------------------------------------------\n",
            "177 M     Trainable params\n",
            "0         Non-trainable params\n",
            "177 M     Total params\n",
            "711.715   Total estimated model params size (MB)\n"
          ]
        },
        {
          "output_type": "display_data",
          "data": {
            "text/plain": [
              "Sanity Checking: 0it [00:00, ?it/s]"
            ],
            "application/vnd.jupyter.widget-view+json": {
              "version_major": 2,
              "version_minor": 0,
              "model_id": "758c5c4bb1cf4c2bb8cc713a12ddc119"
            }
          },
          "metadata": {}
        },
        {
          "output_type": "stream",
          "name": "stderr",
          "text": [
            "INFO:pytorch_lightning.utilities.rank_zero:`Trainer.fit` stopped: `max_epochs=1` reached.\n"
          ]
        },
        {
          "output_type": "stream",
          "name": "stdout",
          "text": [
            "Fit end: Evaluation....\n",
            "F1-micro: 0.27987897125567324\n",
            "F1-macro: 0.029156816390858944\n",
            "                                  precision    recall  f1-score   support\n",
            "\n",
            "        Appeal_to_Fear-Prejudice       0.00      0.00      0.00        14\n",
            "             Appeal_to_Hypocrisy       0.00      0.00      0.00        22\n",
            "                  Appeal_to_Time       0.00      0.00      0.00         1\n",
            "                Appeal_to_Values       0.00      0.00      0.00         9\n",
            "       Causal_Oversimplification       0.00      0.00      0.00         7\n",
            "Consequential_Oversimplification       0.00      0.00      0.00        14\n",
            "             Conversation_Killer       0.00      0.00      0.00        30\n",
            "                           Doubt       0.00      0.00      0.00       126\n",
            "       Exaggeration-Minimisation       0.00      0.00      0.00        32\n",
            "                     Flag_Waving       0.00      0.00      0.00        12\n",
            "                 Loaded_Language       0.28      1.00      0.44       185\n",
            "           Name_Calling-Labeling       0.00      0.00      0.00        52\n",
            "      Questioning_the_Reputation       0.00      0.00      0.00       118\n",
            "                      Repetition       0.00      0.00      0.00        27\n",
            "                         Slogans       0.00      0.00      0.00        12\n",
            "\n",
            "                        accuracy                           0.28       661\n",
            "                       macro avg       0.02      0.07      0.03       661\n",
            "                    weighted avg       0.08      0.28      0.12       661\n",
            "\n"
          ]
        },
        {
          "output_type": "stream",
          "name": "stderr",
          "text": [
            "/usr/local/lib/python3.8/dist-packages/sklearn/metrics/_classification.py:1344: UndefinedMetricWarning: Precision and F-score are ill-defined and being set to 0.0 in labels with no predicted samples. Use `zero_division` parameter to control this behavior.\n",
            "  _warn_prf(average, modifier, msg_start, len(result))\n",
            "/usr/local/lib/python3.8/dist-packages/sklearn/metrics/_classification.py:1344: UndefinedMetricWarning: Precision and F-score are ill-defined and being set to 0.0 in labels with no predicted samples. Use `zero_division` parameter to control this behavior.\n",
            "  _warn_prf(average, modifier, msg_start, len(result))\n",
            "/usr/local/lib/python3.8/dist-packages/sklearn/metrics/_classification.py:1344: UndefinedMetricWarning: Precision and F-score are ill-defined and being set to 0.0 in labels with no predicted samples. Use `zero_division` parameter to control this behavior.\n",
            "  _warn_prf(average, modifier, msg_start, len(result))\n"
          ]
        }
      ],
      "source": [
        "trainer.fit(model, dm)\n",
        "\n",
        "#run.stop()"
      ]
    },
    {
      "cell_type": "code",
      "execution_count": null,
      "metadata": {
        "id": "zXJpuqYFlvBj"
      },
      "outputs": [],
      "source": [
        "# trainer.save_checkpoint(PTC_checkpoints+\"PTC_\"+checkpoint_name+\"_FL.ckpt\")"
      ]
    },
    {
      "cell_type": "code",
      "source": [
        "run.stop()"
      ],
      "metadata": {
        "id": "HMPSmDz_kD3P"
      },
      "execution_count": null,
      "outputs": []
    }
  ],
  "metadata": {
    "colab": {
      "collapsed_sections": [
        "HP-Yhx5WvkLd",
        "L7eE5IQBhyVp",
        "-QeVNdpMv8XK",
        "XyRXscTXyCaU",
        "zBpn_Gj1yU9M",
        "LHR31Es61Wyj",
        "glwbCCpivy-7",
        "DaHf1tnEasan",
        "CDuVG6sI1Zhb"
      ],
      "machine_shape": "hm",
      "provenance": [],
      "include_colab_link": true
    },
    "gpuClass": "standard",
    "kernelspec": {
      "display_name": "Python 3",
      "name": "python3"
    },
    "language_info": {
      "name": "python"
    },
    "widgets": {
      "application/vnd.jupyter.widget-state+json": {
        "758c5c4bb1cf4c2bb8cc713a12ddc119": {
          "model_module": "@jupyter-widgets/controls",
          "model_name": "HBoxModel",
          "model_module_version": "1.5.0",
          "state": {
            "_dom_classes": [],
            "_model_module": "@jupyter-widgets/controls",
            "_model_module_version": "1.5.0",
            "_model_name": "HBoxModel",
            "_view_count": null,
            "_view_module": "@jupyter-widgets/controls",
            "_view_module_version": "1.5.0",
            "_view_name": "HBoxView",
            "box_style": "",
            "children": [
              "IPY_MODEL_eacab28d4b1a4443bdfcfbc9583c7027",
              "IPY_MODEL_158189aa3c234618a19bcbf00713b3c7",
              "IPY_MODEL_4ffe7c67ff4544ff8a589a5818a27f0e"
            ],
            "layout": "IPY_MODEL_d461d9c694d2478db04d41d5f506f0bc"
          }
        },
        "eacab28d4b1a4443bdfcfbc9583c7027": {
          "model_module": "@jupyter-widgets/controls",
          "model_name": "HTMLModel",
          "model_module_version": "1.5.0",
          "state": {
            "_dom_classes": [],
            "_model_module": "@jupyter-widgets/controls",
            "_model_module_version": "1.5.0",
            "_model_name": "HTMLModel",
            "_view_count": null,
            "_view_module": "@jupyter-widgets/controls",
            "_view_module_version": "1.5.0",
            "_view_name": "HTMLView",
            "description": "",
            "description_tooltip": null,
            "layout": "IPY_MODEL_297019f52ee44626b603b059406dfab8",
            "placeholder": "​",
            "style": "IPY_MODEL_c9884f3503214e7482d53c7920d4a589",
            "value": "Sanity Checking DataLoader 0: 100%"
          }
        },
        "158189aa3c234618a19bcbf00713b3c7": {
          "model_module": "@jupyter-widgets/controls",
          "model_name": "FloatProgressModel",
          "model_module_version": "1.5.0",
          "state": {
            "_dom_classes": [],
            "_model_module": "@jupyter-widgets/controls",
            "_model_module_version": "1.5.0",
            "_model_name": "FloatProgressModel",
            "_view_count": null,
            "_view_module": "@jupyter-widgets/controls",
            "_view_module_version": "1.5.0",
            "_view_name": "ProgressView",
            "bar_style": "",
            "description": "",
            "description_tooltip": null,
            "layout": "IPY_MODEL_f269565ed63e4f7386ee87965898847d",
            "max": 2,
            "min": 0,
            "orientation": "horizontal",
            "style": "IPY_MODEL_357634d08fac4240bb17d7f26e6fbd8b",
            "value": 2
          }
        },
        "4ffe7c67ff4544ff8a589a5818a27f0e": {
          "model_module": "@jupyter-widgets/controls",
          "model_name": "HTMLModel",
          "model_module_version": "1.5.0",
          "state": {
            "_dom_classes": [],
            "_model_module": "@jupyter-widgets/controls",
            "_model_module_version": "1.5.0",
            "_model_name": "HTMLModel",
            "_view_count": null,
            "_view_module": "@jupyter-widgets/controls",
            "_view_module_version": "1.5.0",
            "_view_name": "HTMLView",
            "description": "",
            "description_tooltip": null,
            "layout": "IPY_MODEL_bf17adb1b61047449f70e019428e5175",
            "placeholder": "​",
            "style": "IPY_MODEL_be0c128a8c18446e829b51fcfaab80aa",
            "value": " 2/2 [00:01&lt;00:00,  1.69it/s]"
          }
        },
        "d461d9c694d2478db04d41d5f506f0bc": {
          "model_module": "@jupyter-widgets/base",
          "model_name": "LayoutModel",
          "model_module_version": "1.2.0",
          "state": {
            "_model_module": "@jupyter-widgets/base",
            "_model_module_version": "1.2.0",
            "_model_name": "LayoutModel",
            "_view_count": null,
            "_view_module": "@jupyter-widgets/base",
            "_view_module_version": "1.2.0",
            "_view_name": "LayoutView",
            "align_content": null,
            "align_items": null,
            "align_self": null,
            "border": null,
            "bottom": null,
            "display": "inline-flex",
            "flex": null,
            "flex_flow": "row wrap",
            "grid_area": null,
            "grid_auto_columns": null,
            "grid_auto_flow": null,
            "grid_auto_rows": null,
            "grid_column": null,
            "grid_gap": null,
            "grid_row": null,
            "grid_template_areas": null,
            "grid_template_columns": null,
            "grid_template_rows": null,
            "height": null,
            "justify_content": null,
            "justify_items": null,
            "left": null,
            "margin": null,
            "max_height": null,
            "max_width": null,
            "min_height": null,
            "min_width": null,
            "object_fit": null,
            "object_position": null,
            "order": null,
            "overflow": null,
            "overflow_x": null,
            "overflow_y": null,
            "padding": null,
            "right": null,
            "top": null,
            "visibility": "hidden",
            "width": "100%"
          }
        },
        "297019f52ee44626b603b059406dfab8": {
          "model_module": "@jupyter-widgets/base",
          "model_name": "LayoutModel",
          "model_module_version": "1.2.0",
          "state": {
            "_model_module": "@jupyter-widgets/base",
            "_model_module_version": "1.2.0",
            "_model_name": "LayoutModel",
            "_view_count": null,
            "_view_module": "@jupyter-widgets/base",
            "_view_module_version": "1.2.0",
            "_view_name": "LayoutView",
            "align_content": null,
            "align_items": null,
            "align_self": null,
            "border": null,
            "bottom": null,
            "display": null,
            "flex": null,
            "flex_flow": null,
            "grid_area": null,
            "grid_auto_columns": null,
            "grid_auto_flow": null,
            "grid_auto_rows": null,
            "grid_column": null,
            "grid_gap": null,
            "grid_row": null,
            "grid_template_areas": null,
            "grid_template_columns": null,
            "grid_template_rows": null,
            "height": null,
            "justify_content": null,
            "justify_items": null,
            "left": null,
            "margin": null,
            "max_height": null,
            "max_width": null,
            "min_height": null,
            "min_width": null,
            "object_fit": null,
            "object_position": null,
            "order": null,
            "overflow": null,
            "overflow_x": null,
            "overflow_y": null,
            "padding": null,
            "right": null,
            "top": null,
            "visibility": null,
            "width": null
          }
        },
        "c9884f3503214e7482d53c7920d4a589": {
          "model_module": "@jupyter-widgets/controls",
          "model_name": "DescriptionStyleModel",
          "model_module_version": "1.5.0",
          "state": {
            "_model_module": "@jupyter-widgets/controls",
            "_model_module_version": "1.5.0",
            "_model_name": "DescriptionStyleModel",
            "_view_count": null,
            "_view_module": "@jupyter-widgets/base",
            "_view_module_version": "1.2.0",
            "_view_name": "StyleView",
            "description_width": ""
          }
        },
        "f269565ed63e4f7386ee87965898847d": {
          "model_module": "@jupyter-widgets/base",
          "model_name": "LayoutModel",
          "model_module_version": "1.2.0",
          "state": {
            "_model_module": "@jupyter-widgets/base",
            "_model_module_version": "1.2.0",
            "_model_name": "LayoutModel",
            "_view_count": null,
            "_view_module": "@jupyter-widgets/base",
            "_view_module_version": "1.2.0",
            "_view_name": "LayoutView",
            "align_content": null,
            "align_items": null,
            "align_self": null,
            "border": null,
            "bottom": null,
            "display": null,
            "flex": "2",
            "flex_flow": null,
            "grid_area": null,
            "grid_auto_columns": null,
            "grid_auto_flow": null,
            "grid_auto_rows": null,
            "grid_column": null,
            "grid_gap": null,
            "grid_row": null,
            "grid_template_areas": null,
            "grid_template_columns": null,
            "grid_template_rows": null,
            "height": null,
            "justify_content": null,
            "justify_items": null,
            "left": null,
            "margin": null,
            "max_height": null,
            "max_width": null,
            "min_height": null,
            "min_width": null,
            "object_fit": null,
            "object_position": null,
            "order": null,
            "overflow": null,
            "overflow_x": null,
            "overflow_y": null,
            "padding": null,
            "right": null,
            "top": null,
            "visibility": null,
            "width": null
          }
        },
        "357634d08fac4240bb17d7f26e6fbd8b": {
          "model_module": "@jupyter-widgets/controls",
          "model_name": "ProgressStyleModel",
          "model_module_version": "1.5.0",
          "state": {
            "_model_module": "@jupyter-widgets/controls",
            "_model_module_version": "1.5.0",
            "_model_name": "ProgressStyleModel",
            "_view_count": null,
            "_view_module": "@jupyter-widgets/base",
            "_view_module_version": "1.2.0",
            "_view_name": "StyleView",
            "bar_color": null,
            "description_width": ""
          }
        },
        "bf17adb1b61047449f70e019428e5175": {
          "model_module": "@jupyter-widgets/base",
          "model_name": "LayoutModel",
          "model_module_version": "1.2.0",
          "state": {
            "_model_module": "@jupyter-widgets/base",
            "_model_module_version": "1.2.0",
            "_model_name": "LayoutModel",
            "_view_count": null,
            "_view_module": "@jupyter-widgets/base",
            "_view_module_version": "1.2.0",
            "_view_name": "LayoutView",
            "align_content": null,
            "align_items": null,
            "align_self": null,
            "border": null,
            "bottom": null,
            "display": null,
            "flex": null,
            "flex_flow": null,
            "grid_area": null,
            "grid_auto_columns": null,
            "grid_auto_flow": null,
            "grid_auto_rows": null,
            "grid_column": null,
            "grid_gap": null,
            "grid_row": null,
            "grid_template_areas": null,
            "grid_template_columns": null,
            "grid_template_rows": null,
            "height": null,
            "justify_content": null,
            "justify_items": null,
            "left": null,
            "margin": null,
            "max_height": null,
            "max_width": null,
            "min_height": null,
            "min_width": null,
            "object_fit": null,
            "object_position": null,
            "order": null,
            "overflow": null,
            "overflow_x": null,
            "overflow_y": null,
            "padding": null,
            "right": null,
            "top": null,
            "visibility": null,
            "width": null
          }
        },
        "be0c128a8c18446e829b51fcfaab80aa": {
          "model_module": "@jupyter-widgets/controls",
          "model_name": "DescriptionStyleModel",
          "model_module_version": "1.5.0",
          "state": {
            "_model_module": "@jupyter-widgets/controls",
            "_model_module_version": "1.5.0",
            "_model_name": "DescriptionStyleModel",
            "_view_count": null,
            "_view_module": "@jupyter-widgets/base",
            "_view_module_version": "1.2.0",
            "_view_name": "StyleView",
            "description_width": ""
          }
        }
      }
    },
    "accelerator": "GPU"
  },
  "nbformat": 4,
  "nbformat_minor": 0
}